{
  "nbformat": 4,
  "nbformat_minor": 0,
  "metadata": {
    "colab": {
      "name": "movie_lens-genre.ipynb",
      "version": "0.3.2",
      "provenance": [],
      "collapsed_sections": []
    },
    "kernelspec": {
      "display_name": "Python 3",
      "language": "python",
      "name": "python3"
    }
  },
  "cells": [
    {
      "metadata": {
        "colab_type": "text",
        "id": "6g9lt3hA-NOR"
      },
      "cell_type": "markdown",
      "source": [
        "# Import libraries"
      ]
    },
    {
      "metadata": {
        "colab_type": "code",
        "id": "gk-MroIZ-NOW",
        "colab": {}
      },
      "cell_type": "code",
      "source": [
        "import pandas as pd\n",
        "import matplotlib.pyplot as plt\n",
        "import datetime\n",
        "import numpy as np\n",
        "np.random.seed(13)"
      ],
      "execution_count": 0,
      "outputs": []
    },
    {
      "metadata": {
        "colab_type": "code",
        "id": "RFt4PlzEFMXe",
        "outputId": "f8e3574e-7e10-421d-c661-fda8a3c6a74f",
        "colab": {
          "base_uri": "https://localhost:8080/",
          "height": 341
        }
      },
      "cell_type": "code",
      "source": [
        "# Download data in google colab, no need to run this in your laptops\n",
        "\n",
        "# Just in case...\n",
        "!rm -rf ml-latest-small*\n",
        "!wget http://files.grouplens.org/datasets/movielens/ml-latest-small.zip\n",
        "!unzip ml-latest-small.zip"
      ],
      "execution_count": 19,
      "outputs": [
        {
          "output_type": "stream",
          "text": [
            "--2019-04-05 18:13:40--  http://files.grouplens.org/datasets/movielens/ml-latest-small.zip\n",
            "Resolving files.grouplens.org (files.grouplens.org)... 128.101.34.235\n",
            "Connecting to files.grouplens.org (files.grouplens.org)|128.101.34.235|:80... connected.\n",
            "HTTP request sent, awaiting response... 200 OK\n",
            "Length: 978202 (955K) [application/zip]\n",
            "Saving to: ‘ml-latest-small.zip’\n",
            "\n",
            "\rml-latest-small.zip   0%[                    ]       0  --.-KB/s               \rml-latest-small.zip  94%[=================>  ] 898.57K  3.88MB/s               \rml-latest-small.zip 100%[===================>] 955.28K  4.12MB/s    in 0.2s    \n",
            "\n",
            "2019-04-05 18:13:41 (4.12 MB/s) - ‘ml-latest-small.zip’ saved [978202/978202]\n",
            "\n",
            "Archive:  ml-latest-small.zip\n",
            "   creating: ml-latest-small/\n",
            "  inflating: ml-latest-small/links.csv  \n",
            "  inflating: ml-latest-small/tags.csv  \n",
            "  inflating: ml-latest-small/ratings.csv  \n",
            "  inflating: ml-latest-small/README.txt  \n",
            "  inflating: ml-latest-small/movies.csv  \n"
          ],
          "name": "stdout"
        }
      ]
    },
    {
      "metadata": {
        "colab_type": "text",
        "id": "8dBBbscc-NOn"
      },
      "cell_type": "markdown",
      "source": [
        "# Load data"
      ]
    },
    {
      "metadata": {
        "colab_type": "code",
        "id": "22DhXKzx-NOq",
        "colab": {}
      },
      "cell_type": "code",
      "source": [
        "data = pd.read_csv(\"ml-latest-small/ratings.csv\", index_col='timestamp', parse_dates=['timestamp'], date_parser = lambda x: datetime.datetime.fromtimestamp(int(x)))\n",
        "data1 = pd.read_csv(\"ml-latest-small/movies.csv\", index_col='movieId')\n"
      ],
      "execution_count": 0,
      "outputs": []
    },
    {
      "metadata": {
        "colab_type": "text",
        "id": "MLlbV-7k-NO0"
      },
      "cell_type": "markdown",
      "source": [
        "## Process data\n",
        "**Assumption**: one rating = one request"
      ]
    },
    {
      "metadata": {
        "colab_type": "code",
        "id": "VM1C40EE-NO2",
        "outputId": "d6eeb1c0-468e-4ca3-e8bd-0e3af02e16f2",
        "colab": {
          "base_uri": "https://localhost:8080/",
          "height": 235
        }
      },
      "cell_type": "code",
      "source": [
        "del data['userId']\n",
        "data.head()\n",
        "del data1['title']\n",
        "data1.head()\n"
      ],
      "execution_count": 21,
      "outputs": [
        {
          "output_type": "execute_result",
          "data": {
            "text/html": [
              "<div>\n",
              "<style scoped>\n",
              "    .dataframe tbody tr th:only-of-type {\n",
              "        vertical-align: middle;\n",
              "    }\n",
              "\n",
              "    .dataframe tbody tr th {\n",
              "        vertical-align: top;\n",
              "    }\n",
              "\n",
              "    .dataframe thead th {\n",
              "        text-align: right;\n",
              "    }\n",
              "</style>\n",
              "<table border=\"1\" class=\"dataframe\">\n",
              "  <thead>\n",
              "    <tr style=\"text-align: right;\">\n",
              "      <th></th>\n",
              "      <th>genres</th>\n",
              "    </tr>\n",
              "    <tr>\n",
              "      <th>movieId</th>\n",
              "      <th></th>\n",
              "    </tr>\n",
              "  </thead>\n",
              "  <tbody>\n",
              "    <tr>\n",
              "      <th>1</th>\n",
              "      <td>Adventure|Animation|Children|Comedy|Fantasy</td>\n",
              "    </tr>\n",
              "    <tr>\n",
              "      <th>2</th>\n",
              "      <td>Adventure|Children|Fantasy</td>\n",
              "    </tr>\n",
              "    <tr>\n",
              "      <th>3</th>\n",
              "      <td>Comedy|Romance</td>\n",
              "    </tr>\n",
              "    <tr>\n",
              "      <th>4</th>\n",
              "      <td>Comedy|Drama|Romance</td>\n",
              "    </tr>\n",
              "    <tr>\n",
              "      <th>5</th>\n",
              "      <td>Comedy</td>\n",
              "    </tr>\n",
              "  </tbody>\n",
              "</table>\n",
              "</div>"
            ],
            "text/plain": [
              "                                              genres\n",
              "movieId                                             \n",
              "1        Adventure|Animation|Children|Comedy|Fantasy\n",
              "2                         Adventure|Children|Fantasy\n",
              "3                                     Comedy|Romance\n",
              "4                               Comedy|Drama|Romance\n",
              "5                                             Comedy"
            ]
          },
          "metadata": {
            "tags": []
          },
          "execution_count": 21
        }
      ]
    },
    {
      "metadata": {
        "colab_type": "code",
        "id": "sZfGLCE9-NPE",
        "colab": {}
      },
      "cell_type": "code",
      "source": [
        "def assign_class(n_req, total_req):\n",
        "    \"\"\"\n",
        "    assign class based on the no. of request received\n",
        "    \"\"\"\n",
        "    \n",
        "    # top 1% of the day are Class 1\n",
        "    if n_req > 0.01 * total_req:\n",
        "        return 1\n",
        "    # top 0.5% of the day are Class 2\n",
        "    elif n_req > 0.005 * total_req:\n",
        "        return 2\n",
        "    # top 0.01% of the day are Class 3\n",
        "    elif n_req > 0.001 * total_req:\n",
        "        return 3\n",
        "    # rest are Class 4\n",
        "    else:\n",
        "        return 4"
      ],
      "execution_count": 0,
      "outputs": []
    },
    {
      "metadata": {
        "colab_type": "code",
        "id": "jSa7_Oa8-NPK",
        "colab": {}
      },
      "cell_type": "code",
      "source": [
        "def group_movies(daywise_group):\n",
        "    \"\"\"\n",
        "    add request probablity to input pandas DataFrame\n",
        "    \n",
        "    :param daywise_group: a DataFrame containing movieId and corresponding ratings for a single day.\n",
        "    \"\"\"\n",
        "\n",
        "    df = daywise_group.groupby(\"movieId\").count()   \n",
        "    # `rating` column now holds the no. of requests, so rename the column to avoid confusion\n",
        "    df.rename(columns={\"rating\":\"req\"}, inplace=True)\n",
        "    df['totalReq'] = daywise_group.shape[0]\n",
        "    # request probablity for that day\n",
        "    df['reqProb'] = daywise_group.groupby(\"movieId\").count()['rating'] / df['totalReq']\n",
        "    return df"
      ],
      "execution_count": 0,
      "outputs": []
    },
    {
      "metadata": {
        "colab_type": "code",
        "id": "mfuWmjK6-NPS",
        "outputId": "753f166b-2928-4ab5-84f3-4357a4f48969",
        "colab": {
          "base_uri": "https://localhost:8080/",
          "height": 235
        }
      },
      "cell_type": "code",
      "source": [
        "grouped_by_movie = data.resample(\"1y\").apply(group_movies)\n",
        "grouped_by_movie['class'] = grouped_by_movie[['req', 'totalReq']].apply(lambda x:assign_class(x['req'], x['totalReq']), axis=1)\n",
        "grouped_by_movie.reset_index(level='movieId', inplace=True)\n",
        "#adding genres\n",
        "grouped_by_movie = pd.merge(grouped_by_movie.reset_index(), data1.reset_index())\n",
        "grouped_by_movie.set_index('timestamp', inplace = True)\n",
        "grouped_by_movie.head()"
      ],
      "execution_count": 24,
      "outputs": [
        {
          "output_type": "execute_result",
          "data": {
            "text/html": [
              "<div>\n",
              "<style scoped>\n",
              "    .dataframe tbody tr th:only-of-type {\n",
              "        vertical-align: middle;\n",
              "    }\n",
              "\n",
              "    .dataframe tbody tr th {\n",
              "        vertical-align: top;\n",
              "    }\n",
              "\n",
              "    .dataframe thead th {\n",
              "        text-align: right;\n",
              "    }\n",
              "</style>\n",
              "<table border=\"1\" class=\"dataframe\">\n",
              "  <thead>\n",
              "    <tr style=\"text-align: right;\">\n",
              "      <th></th>\n",
              "      <th>movieId</th>\n",
              "      <th>req</th>\n",
              "      <th>totalReq</th>\n",
              "      <th>reqProb</th>\n",
              "      <th>class</th>\n",
              "      <th>genres</th>\n",
              "    </tr>\n",
              "    <tr>\n",
              "      <th>timestamp</th>\n",
              "      <th></th>\n",
              "      <th></th>\n",
              "      <th></th>\n",
              "      <th></th>\n",
              "      <th></th>\n",
              "      <th></th>\n",
              "    </tr>\n",
              "  </thead>\n",
              "  <tbody>\n",
              "    <tr>\n",
              "      <th>1996-12-31</th>\n",
              "      <td>1</td>\n",
              "      <td>33</td>\n",
              "      <td>6040</td>\n",
              "      <td>0.005464</td>\n",
              "      <td>2</td>\n",
              "      <td>Adventure|Animation|Children|Comedy|Fantasy</td>\n",
              "    </tr>\n",
              "    <tr>\n",
              "      <th>1997-12-31</th>\n",
              "      <td>1</td>\n",
              "      <td>22</td>\n",
              "      <td>1916</td>\n",
              "      <td>0.011482</td>\n",
              "      <td>1</td>\n",
              "      <td>Adventure|Animation|Children|Comedy|Fantasy</td>\n",
              "    </tr>\n",
              "    <tr>\n",
              "      <th>1998-12-31</th>\n",
              "      <td>1</td>\n",
              "      <td>1</td>\n",
              "      <td>507</td>\n",
              "      <td>0.001972</td>\n",
              "      <td>3</td>\n",
              "      <td>Adventure|Animation|Children|Comedy|Fantasy</td>\n",
              "    </tr>\n",
              "    <tr>\n",
              "      <th>1999-12-31</th>\n",
              "      <td>1</td>\n",
              "      <td>9</td>\n",
              "      <td>2439</td>\n",
              "      <td>0.003690</td>\n",
              "      <td>3</td>\n",
              "      <td>Adventure|Animation|Children|Comedy|Fantasy</td>\n",
              "    </tr>\n",
              "    <tr>\n",
              "      <th>2000-12-31</th>\n",
              "      <td>1</td>\n",
              "      <td>18</td>\n",
              "      <td>10061</td>\n",
              "      <td>0.001789</td>\n",
              "      <td>3</td>\n",
              "      <td>Adventure|Animation|Children|Comedy|Fantasy</td>\n",
              "    </tr>\n",
              "  </tbody>\n",
              "</table>\n",
              "</div>"
            ],
            "text/plain": [
              "            movieId  req  totalReq   reqProb  class  \\\n",
              "timestamp                                             \n",
              "1996-12-31        1   33      6040  0.005464      2   \n",
              "1997-12-31        1   22      1916  0.011482      1   \n",
              "1998-12-31        1    1       507  0.001972      3   \n",
              "1999-12-31        1    9      2439  0.003690      3   \n",
              "2000-12-31        1   18     10061  0.001789      3   \n",
              "\n",
              "                                                 genres  \n",
              "timestamp                                                \n",
              "1996-12-31  Adventure|Animation|Children|Comedy|Fantasy  \n",
              "1997-12-31  Adventure|Animation|Children|Comedy|Fantasy  \n",
              "1998-12-31  Adventure|Animation|Children|Comedy|Fantasy  \n",
              "1999-12-31  Adventure|Animation|Children|Comedy|Fantasy  \n",
              "2000-12-31  Adventure|Animation|Children|Comedy|Fantasy  "
            ]
          },
          "metadata": {
            "tags": []
          },
          "execution_count": 24
        }
      ]
    },
    {
      "metadata": {
        "id": "CjMOU2uIeXef",
        "colab_type": "code",
        "outputId": "2a126bca-7885-4995-9537-2073aa755b04",
        "colab": {
          "base_uri": "https://localhost:8080/",
          "height": 264
        }
      },
      "cell_type": "code",
      "source": [
        "#changing genres with one hot encode \n",
        "from sklearn.preprocessing import MultiLabelBinarizer\n",
        "splitted = grouped_by_movie.apply(lambda x:x['genres'].split(\"|\"), axis=1)\n",
        "mlb = MultiLabelBinarizer()\n",
        "L = mlb.fit_transform(splitted)\n",
        "genre = pd.DataFrame(L)\n",
        "grouped_by_movie.reset_index()\n",
        "grouped_by_movie = pd.merge(grouped_by_movie.reset_index(), genre.reset_index(), left_index=True, right_index=True)\n",
        "del grouped_by_movie['genres'], grouped_by_movie['index']\n",
        "temp = grouped_by_movie['class']\n",
        "del grouped_by_movie['class']\n",
        "grouped_by_movie = pd.merge(grouped_by_movie.reset_index(), temp.reset_index(), left_index=True, right_index=True)\n",
        "grouped_by_movie.set_index('timestamp', inplace = True)\n",
        "del grouped_by_movie['index_x'], grouped_by_movie['index_y']\n",
        "grouped_by_movie.head()"
      ],
      "execution_count": 25,
      "outputs": [
        {
          "output_type": "execute_result",
          "data": {
            "text/html": [
              "<div>\n",
              "<style scoped>\n",
              "    .dataframe tbody tr th:only-of-type {\n",
              "        vertical-align: middle;\n",
              "    }\n",
              "\n",
              "    .dataframe tbody tr th {\n",
              "        vertical-align: top;\n",
              "    }\n",
              "\n",
              "    .dataframe thead th {\n",
              "        text-align: right;\n",
              "    }\n",
              "</style>\n",
              "<table border=\"1\" class=\"dataframe\">\n",
              "  <thead>\n",
              "    <tr style=\"text-align: right;\">\n",
              "      <th></th>\n",
              "      <th>movieId</th>\n",
              "      <th>req</th>\n",
              "      <th>totalReq</th>\n",
              "      <th>reqProb</th>\n",
              "      <th>0</th>\n",
              "      <th>1</th>\n",
              "      <th>2</th>\n",
              "      <th>3</th>\n",
              "      <th>4</th>\n",
              "      <th>5</th>\n",
              "      <th>...</th>\n",
              "      <th>11</th>\n",
              "      <th>12</th>\n",
              "      <th>13</th>\n",
              "      <th>14</th>\n",
              "      <th>15</th>\n",
              "      <th>16</th>\n",
              "      <th>17</th>\n",
              "      <th>18</th>\n",
              "      <th>19</th>\n",
              "      <th>class</th>\n",
              "    </tr>\n",
              "    <tr>\n",
              "      <th>timestamp</th>\n",
              "      <th></th>\n",
              "      <th></th>\n",
              "      <th></th>\n",
              "      <th></th>\n",
              "      <th></th>\n",
              "      <th></th>\n",
              "      <th></th>\n",
              "      <th></th>\n",
              "      <th></th>\n",
              "      <th></th>\n",
              "      <th></th>\n",
              "      <th></th>\n",
              "      <th></th>\n",
              "      <th></th>\n",
              "      <th></th>\n",
              "      <th></th>\n",
              "      <th></th>\n",
              "      <th></th>\n",
              "      <th></th>\n",
              "      <th></th>\n",
              "      <th></th>\n",
              "    </tr>\n",
              "  </thead>\n",
              "  <tbody>\n",
              "    <tr>\n",
              "      <th>1996-12-31</th>\n",
              "      <td>1</td>\n",
              "      <td>33</td>\n",
              "      <td>6040</td>\n",
              "      <td>0.005464</td>\n",
              "      <td>0</td>\n",
              "      <td>0</td>\n",
              "      <td>1</td>\n",
              "      <td>1</td>\n",
              "      <td>1</td>\n",
              "      <td>1</td>\n",
              "      <td>...</td>\n",
              "      <td>0</td>\n",
              "      <td>0</td>\n",
              "      <td>0</td>\n",
              "      <td>0</td>\n",
              "      <td>0</td>\n",
              "      <td>0</td>\n",
              "      <td>0</td>\n",
              "      <td>0</td>\n",
              "      <td>0</td>\n",
              "      <td>2</td>\n",
              "    </tr>\n",
              "    <tr>\n",
              "      <th>1997-12-31</th>\n",
              "      <td>1</td>\n",
              "      <td>22</td>\n",
              "      <td>1916</td>\n",
              "      <td>0.011482</td>\n",
              "      <td>0</td>\n",
              "      <td>0</td>\n",
              "      <td>1</td>\n",
              "      <td>1</td>\n",
              "      <td>1</td>\n",
              "      <td>1</td>\n",
              "      <td>...</td>\n",
              "      <td>0</td>\n",
              "      <td>0</td>\n",
              "      <td>0</td>\n",
              "      <td>0</td>\n",
              "      <td>0</td>\n",
              "      <td>0</td>\n",
              "      <td>0</td>\n",
              "      <td>0</td>\n",
              "      <td>0</td>\n",
              "      <td>1</td>\n",
              "    </tr>\n",
              "    <tr>\n",
              "      <th>1998-12-31</th>\n",
              "      <td>1</td>\n",
              "      <td>1</td>\n",
              "      <td>507</td>\n",
              "      <td>0.001972</td>\n",
              "      <td>0</td>\n",
              "      <td>0</td>\n",
              "      <td>1</td>\n",
              "      <td>1</td>\n",
              "      <td>1</td>\n",
              "      <td>1</td>\n",
              "      <td>...</td>\n",
              "      <td>0</td>\n",
              "      <td>0</td>\n",
              "      <td>0</td>\n",
              "      <td>0</td>\n",
              "      <td>0</td>\n",
              "      <td>0</td>\n",
              "      <td>0</td>\n",
              "      <td>0</td>\n",
              "      <td>0</td>\n",
              "      <td>3</td>\n",
              "    </tr>\n",
              "    <tr>\n",
              "      <th>1999-12-31</th>\n",
              "      <td>1</td>\n",
              "      <td>9</td>\n",
              "      <td>2439</td>\n",
              "      <td>0.003690</td>\n",
              "      <td>0</td>\n",
              "      <td>0</td>\n",
              "      <td>1</td>\n",
              "      <td>1</td>\n",
              "      <td>1</td>\n",
              "      <td>1</td>\n",
              "      <td>...</td>\n",
              "      <td>0</td>\n",
              "      <td>0</td>\n",
              "      <td>0</td>\n",
              "      <td>0</td>\n",
              "      <td>0</td>\n",
              "      <td>0</td>\n",
              "      <td>0</td>\n",
              "      <td>0</td>\n",
              "      <td>0</td>\n",
              "      <td>3</td>\n",
              "    </tr>\n",
              "    <tr>\n",
              "      <th>2000-12-31</th>\n",
              "      <td>1</td>\n",
              "      <td>18</td>\n",
              "      <td>10061</td>\n",
              "      <td>0.001789</td>\n",
              "      <td>0</td>\n",
              "      <td>0</td>\n",
              "      <td>1</td>\n",
              "      <td>1</td>\n",
              "      <td>1</td>\n",
              "      <td>1</td>\n",
              "      <td>...</td>\n",
              "      <td>0</td>\n",
              "      <td>0</td>\n",
              "      <td>0</td>\n",
              "      <td>0</td>\n",
              "      <td>0</td>\n",
              "      <td>0</td>\n",
              "      <td>0</td>\n",
              "      <td>0</td>\n",
              "      <td>0</td>\n",
              "      <td>3</td>\n",
              "    </tr>\n",
              "  </tbody>\n",
              "</table>\n",
              "<p>5 rows × 25 columns</p>\n",
              "</div>"
            ],
            "text/plain": [
              "            movieId  req  totalReq   reqProb  0  1  2  3  4  5  ...    11  12  \\\n",
              "timestamp                                                       ...             \n",
              "1996-12-31        1   33      6040  0.005464  0  0  1  1  1  1  ...     0   0   \n",
              "1997-12-31        1   22      1916  0.011482  0  0  1  1  1  1  ...     0   0   \n",
              "1998-12-31        1    1       507  0.001972  0  0  1  1  1  1  ...     0   0   \n",
              "1999-12-31        1    9      2439  0.003690  0  0  1  1  1  1  ...     0   0   \n",
              "2000-12-31        1   18     10061  0.001789  0  0  1  1  1  1  ...     0   0   \n",
              "\n",
              "            13  14  15  16  17  18  19  class  \n",
              "timestamp                                      \n",
              "1996-12-31   0   0   0   0   0   0   0      2  \n",
              "1997-12-31   0   0   0   0   0   0   0      1  \n",
              "1998-12-31   0   0   0   0   0   0   0      3  \n",
              "1999-12-31   0   0   0   0   0   0   0      3  \n",
              "2000-12-31   0   0   0   0   0   0   0      3  \n",
              "\n",
              "[5 rows x 25 columns]"
            ]
          },
          "metadata": {
            "tags": []
          },
          "execution_count": 25
        }
      ]
    },
    {
      "metadata": {
        "colab_type": "code",
        "id": "2AcmEeT9qXxw",
        "outputId": "3bf1b350-d7a6-410e-dc69-13b8a48443a9",
        "colab": {
          "base_uri": "https://localhost:8080/",
          "height": 634
        }
      },
      "cell_type": "code",
      "source": [
        "movie_history = grouped_by_movie[grouped_by_movie['movieId'] == 606]\n",
        "movie_history['Y'] = np.roll(movie_history['class'], -1)\n",
        "movie_history['req'].plot()\n",
        "del movie_history['totalReq']\n",
        "movie_history.head()"
      ],
      "execution_count": 26,
      "outputs": [
        {
          "output_type": "stream",
          "text": [
            "/usr/local/lib/python3.6/dist-packages/ipykernel_launcher.py:2: SettingWithCopyWarning: \n",
            "A value is trying to be set on a copy of a slice from a DataFrame.\n",
            "Try using .loc[row_indexer,col_indexer] = value instead\n",
            "\n",
            "See the caveats in the documentation: http://pandas.pydata.org/pandas-docs/stable/indexing.html#indexing-view-versus-copy\n",
            "  \n"
          ],
          "name": "stderr"
        },
        {
          "output_type": "execute_result",
          "data": {
            "text/html": [
              "<div>\n",
              "<style scoped>\n",
              "    .dataframe tbody tr th:only-of-type {\n",
              "        vertical-align: middle;\n",
              "    }\n",
              "\n",
              "    .dataframe tbody tr th {\n",
              "        vertical-align: top;\n",
              "    }\n",
              "\n",
              "    .dataframe thead th {\n",
              "        text-align: right;\n",
              "    }\n",
              "</style>\n",
              "<table border=\"1\" class=\"dataframe\">\n",
              "  <thead>\n",
              "    <tr style=\"text-align: right;\">\n",
              "      <th></th>\n",
              "      <th>movieId</th>\n",
              "      <th>req</th>\n",
              "      <th>reqProb</th>\n",
              "      <th>0</th>\n",
              "      <th>1</th>\n",
              "      <th>2</th>\n",
              "      <th>3</th>\n",
              "      <th>4</th>\n",
              "      <th>5</th>\n",
              "      <th>6</th>\n",
              "      <th>...</th>\n",
              "      <th>12</th>\n",
              "      <th>13</th>\n",
              "      <th>14</th>\n",
              "      <th>15</th>\n",
              "      <th>16</th>\n",
              "      <th>17</th>\n",
              "      <th>18</th>\n",
              "      <th>19</th>\n",
              "      <th>class</th>\n",
              "      <th>Y</th>\n",
              "    </tr>\n",
              "    <tr>\n",
              "      <th>timestamp</th>\n",
              "      <th></th>\n",
              "      <th></th>\n",
              "      <th></th>\n",
              "      <th></th>\n",
              "      <th></th>\n",
              "      <th></th>\n",
              "      <th></th>\n",
              "      <th></th>\n",
              "      <th></th>\n",
              "      <th></th>\n",
              "      <th></th>\n",
              "      <th></th>\n",
              "      <th></th>\n",
              "      <th></th>\n",
              "      <th></th>\n",
              "      <th></th>\n",
              "      <th></th>\n",
              "      <th></th>\n",
              "      <th></th>\n",
              "      <th></th>\n",
              "      <th></th>\n",
              "    </tr>\n",
              "  </thead>\n",
              "  <tbody>\n",
              "    <tr>\n",
              "      <th>1996-12-31</th>\n",
              "      <td>606</td>\n",
              "      <td>2</td>\n",
              "      <td>0.000331</td>\n",
              "      <td>0</td>\n",
              "      <td>0</td>\n",
              "      <td>0</td>\n",
              "      <td>0</td>\n",
              "      <td>0</td>\n",
              "      <td>0</td>\n",
              "      <td>0</td>\n",
              "      <td>...</td>\n",
              "      <td>0</td>\n",
              "      <td>0</td>\n",
              "      <td>0</td>\n",
              "      <td>0</td>\n",
              "      <td>0</td>\n",
              "      <td>0</td>\n",
              "      <td>0</td>\n",
              "      <td>0</td>\n",
              "      <td>4</td>\n",
              "      <td>4</td>\n",
              "    </tr>\n",
              "    <tr>\n",
              "      <th>2000-12-31</th>\n",
              "      <td>606</td>\n",
              "      <td>1</td>\n",
              "      <td>0.000099</td>\n",
              "      <td>0</td>\n",
              "      <td>0</td>\n",
              "      <td>0</td>\n",
              "      <td>0</td>\n",
              "      <td>0</td>\n",
              "      <td>0</td>\n",
              "      <td>0</td>\n",
              "      <td>...</td>\n",
              "      <td>0</td>\n",
              "      <td>0</td>\n",
              "      <td>0</td>\n",
              "      <td>0</td>\n",
              "      <td>0</td>\n",
              "      <td>0</td>\n",
              "      <td>0</td>\n",
              "      <td>0</td>\n",
              "      <td>4</td>\n",
              "      <td>4</td>\n",
              "    </tr>\n",
              "    <tr>\n",
              "      <th>2005-12-31</th>\n",
              "      <td>606</td>\n",
              "      <td>1</td>\n",
              "      <td>0.000172</td>\n",
              "      <td>0</td>\n",
              "      <td>0</td>\n",
              "      <td>0</td>\n",
              "      <td>0</td>\n",
              "      <td>0</td>\n",
              "      <td>0</td>\n",
              "      <td>0</td>\n",
              "      <td>...</td>\n",
              "      <td>0</td>\n",
              "      <td>0</td>\n",
              "      <td>0</td>\n",
              "      <td>0</td>\n",
              "      <td>0</td>\n",
              "      <td>0</td>\n",
              "      <td>0</td>\n",
              "      <td>0</td>\n",
              "      <td>4</td>\n",
              "      <td>4</td>\n",
              "    </tr>\n",
              "  </tbody>\n",
              "</table>\n",
              "<p>3 rows × 25 columns</p>\n",
              "</div>"
            ],
            "text/plain": [
              "            movieId  req   reqProb  0  1  2  3  4  5  6 ...  12  13  14  15  \\\n",
              "timestamp                                               ...                   \n",
              "1996-12-31      606    2  0.000331  0  0  0  0  0  0  0 ...   0   0   0   0   \n",
              "2000-12-31      606    1  0.000099  0  0  0  0  0  0  0 ...   0   0   0   0   \n",
              "2005-12-31      606    1  0.000172  0  0  0  0  0  0  0 ...   0   0   0   0   \n",
              "\n",
              "            16  17  18  19  class  Y  \n",
              "timestamp                             \n",
              "1996-12-31   0   0   0   0      4  4  \n",
              "2000-12-31   0   0   0   0      4  4  \n",
              "2005-12-31   0   0   0   0      4  4  \n",
              "\n",
              "[3 rows x 25 columns]"
            ]
          },
          "metadata": {
            "tags": []
          },
          "execution_count": 26
        },
        {
          "output_type": "display_data",
          "data": {
            "image/png": "[encoded data removed]",
            "text/plain": [
              "<Figure size 576x396 with 1 Axes>"
            ]
          },
          "metadata": {
            "tags": []
          }
        }
      ]
    },
    {
      "metadata": {
        "colab_type": "text",
        "id": "yvQlXTHUxIYG"
      },
      "cell_type": "markdown",
      "source": [
        "# Crunching numbers!"
      ]
    },
    {
      "metadata": {
        "colab_type": "code",
        "id": "JF4jlzy7vt03",
        "colab": {
          "base_uri": "https://localhost:8080/",
          "height": 35
        },
        "outputId": "f123fdb9-741b-4a51-ed29-625576913ac8"
      },
      "cell_type": "code",
      "source": [
        "from sklearn.preprocessing import OneHotEncoder, MinMaxScaler\n",
        "from sklearn.compose import ColumnTransformer, make_column_transformer\n",
        "# One-hot-encode classes\n",
        "preprocess = make_column_transformer([OneHotEncoder(categories=[np.array([1,2,3,4])]), ['class', 'Y']])\n",
        "values = movie_history.values\n",
        "#print(values)\n",
        "one_hot_encoded = np.concatenate((list(map(lambda x:np.eye(4)[x-1], values[:,23].astype('int')) ),\n",
        "               list(map(lambda x:np.eye(4)[x-1], values[:,24].astype('int')))), axis=1)\n",
        "values = np.concatenate((movie_history.values[:,:23], one_hot_encoded), axis=1)\n",
        "\n",
        "# Scale \n",
        "scaler = MinMaxScaler()\n",
        "scaled_values = scaler.fit_transform(values)\n",
        "scaled_values.shape\n"
      ],
      "execution_count": 27,
      "outputs": [
        {
          "output_type": "execute_result",
          "data": {
            "text/plain": [
              "(3, 31)"
            ]
          },
          "metadata": {
            "tags": []
          },
          "execution_count": 27
        }
      ]
    },
    {
      "metadata": {
        "colab_type": "text",
        "id": "HuxZJ9or6zfU"
      },
      "cell_type": "markdown",
      "source": [
        "## Make X and Y"
      ]
    },
    {
      "metadata": {
        "colab_type": "code",
        "id": "Na6Poqpc80oy",
        "colab": {
          "base_uri": "https://localhost:8080/",
          "height": 53
        },
        "outputId": "a4b686ea-757f-4714-c566-19bc93ecdbef"
      },
      "cell_type": "code",
      "source": [
        "X = scaled_values[:,:27]\n",
        "y = scaled_values[:,27:]\n",
        "# reshape\n",
        "X = X.reshape(X.shape[0], 1, 27)\n",
        "y = y.reshape(y.shape[0], 1, 4)\n",
        "print(X.shape)\n",
        "print(y.shape)"
      ],
      "execution_count": 28,
      "outputs": [
        {
          "output_type": "stream",
          "text": [
            "(3, 1, 27)\n",
            "(3, 1, 4)\n"
          ],
          "name": "stdout"
        }
      ]
    },
    {
      "metadata": {
        "colab_type": "text",
        "id": "Cn6Ty1x_8-RJ"
      },
      "cell_type": "markdown",
      "source": [
        "## train_test_split"
      ]
    },
    {
      "metadata": {
        "colab_type": "code",
        "id": "dex1WVxW9Nnb",
        "colab": {}
      },
      "cell_type": "code",
      "source": [
        "from sklearn.model_selection import train_test_split\n",
        "X_train, X_test, y_train, y_test = train_test_split(X, y, test_size=0.33, random_state=42)"
      ],
      "execution_count": 0,
      "outputs": []
    },
    {
      "metadata": {
        "colab_type": "text",
        "id": "gZIh47O_9Xe6"
      },
      "cell_type": "markdown",
      "source": [
        "# Make Model"
      ]
    },
    {
      "metadata": {
        "colab_type": "code",
        "id": "eZ6uF_wo9f4a",
        "colab": {
          "base_uri": "https://localhost:8080/",
          "height": 323
        },
        "outputId": "536e58fd-fadc-464c-cc37-0febb5c7bb0f"
      },
      "cell_type": "code",
      "source": [
        "from keras.models import Sequential\n",
        "from keras.layers import Dropout, LSTM, BatchNormalization, TimeDistributed, Dense, Activation\n",
        "model = Sequential()\n",
        "model.add(BatchNormalization(input_shape=(1,X_train.shape[2])))\n",
        "model.add(LSTM(4, return_sequences=True))\n",
        "model.add(LSTM(1, dropout=0.2, return_sequences=True))\n",
        "model.add(TimeDistributed(Dense(y_train.shape[2])))\n",
        "model.add(Activation('softmax'))\n",
        "model.compile(optimizer='adam', loss='categorical_crossentropy', metrics=['accuracy'])\n",
        "model.summary()"
      ],
      "execution_count": 30,
      "outputs": [
        {
          "output_type": "stream",
          "text": [
            "_________________________________________________________________\n",
            "Layer (type)                 Output Shape              Param #   \n",
            "=================================================================\n",
            "batch_normalization_2 (Batch (None, 1, 27)             108       \n",
            "_________________________________________________________________\n",
            "lstm_3 (LSTM)                (None, 1, 4)              512       \n",
            "_________________________________________________________________\n",
            "lstm_4 (LSTM)                (None, 1, 1)              24        \n",
            "_________________________________________________________________\n",
            "time_distributed_2 (TimeDist (None, 1, 4)              8         \n",
            "_________________________________________________________________\n",
            "activation_2 (Activation)    (None, 1, 4)              0         \n",
            "=================================================================\n",
            "Total params: 652\n",
            "Trainable params: 598\n",
            "Non-trainable params: 54\n",
            "_________________________________________________________________\n"
          ],
          "name": "stdout"
        }
      ]
    },
    {
      "metadata": {
        "colab_type": "code",
        "id": "6sjFOYBKEY1Z",
        "colab": {
          "base_uri": "https://localhost:8080/",
          "height": 377
        },
        "outputId": "ad55f0bd-4f43-4e49-c937-e355972bc752"
      },
      "cell_type": "code",
      "source": [
        "history = model.fit(X_train, y_train, batch_size=10, epochs=10)"
      ],
      "execution_count": 31,
      "outputs": [
        {
          "output_type": "stream",
          "text": [
            "Epoch 1/10\n",
            "2/2 [==============================] - 2s 1s/step - loss: 0.0000e+00 - acc: 0.0000e+00\n",
            "Epoch 2/10\n",
            "2/2 [==============================] - 0s 6ms/step - loss: 0.0000e+00 - acc: 0.0000e+00\n",
            "Epoch 3/10\n",
            "2/2 [==============================] - 0s 5ms/step - loss: 0.0000e+00 - acc: 0.0000e+00\n",
            "Epoch 4/10\n",
            "2/2 [==============================] - 0s 4ms/step - loss: 0.0000e+00 - acc: 0.0000e+00\n",
            "Epoch 5/10\n",
            "2/2 [==============================] - 0s 4ms/step - loss: 0.0000e+00 - acc: 0.0000e+00\n",
            "Epoch 6/10\n",
            "2/2 [==============================] - 0s 3ms/step - loss: 0.0000e+00 - acc: 0.0000e+00\n",
            "Epoch 7/10\n",
            "2/2 [==============================] - 0s 3ms/step - loss: 0.0000e+00 - acc: 0.0000e+00\n",
            "Epoch 8/10\n",
            "2/2 [==============================] - 0s 3ms/step - loss: 0.0000e+00 - acc: 0.0000e+00\n",
            "Epoch 9/10\n",
            "2/2 [==============================] - 0s 3ms/step - loss: 0.0000e+00 - acc: 0.0000e+00\n",
            "Epoch 10/10\n",
            "2/2 [==============================] - 0s 3ms/step - loss: 0.0000e+00 - acc: 0.0000e+00\n"
          ],
          "name": "stdout"
        }
      ]
    },
    {
      "metadata": {
        "colab_type": "code",
        "id": "dktSh9mMH92G",
        "colab": {
          "base_uri": "https://localhost:8080/",
          "height": 71
        },
        "outputId": "2dbc2496-07a9-414a-90c3-df5f412b3b6c"
      },
      "cell_type": "code",
      "source": [
        "score, acc = model.evaluate(X_test, y_test,\n",
        "                            batch_size=100)\n",
        "print('Test score:', score)\n",
        "print('Test accuracy:', acc)"
      ],
      "execution_count": 32,
      "outputs": [
        {
          "output_type": "stream",
          "text": [
            "\r1/1 [==============================] - 0s 423ms/step\n",
            "Test score: 0.0\n",
            "Test accuracy: 0.0\n"
          ],
          "name": "stdout"
        }
      ]
    }
  ]
}