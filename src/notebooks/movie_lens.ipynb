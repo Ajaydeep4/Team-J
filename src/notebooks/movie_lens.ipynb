{
  "nbformat": 4,
  "nbformat_minor": 0,
  "metadata": {
    "colab": {
      "name": "movie_lens.ipynb",
      "version": "0.3.2",
      "provenance": [],
      "collapsed_sections": []
    },
    "kernelspec": {
      "display_name": "Python 3",
      "language": "python",
      "name": "python3"
    }
  },
  "cells": [
    {
      "metadata": {
        "id": "6g9lt3hA-NOR",
        "colab_type": "text"
      },
      "cell_type": "markdown",
      "source": [
        "# Import libraries"
      ]
    },
    {
      "metadata": {
        "id": "gk-MroIZ-NOW",
        "colab_type": "code",
        "colab": {}
      },
      "cell_type": "code",
      "source": [
        "import pandas as pd\n",
        "import matplotlib.pyplot as plt\n",
        "import datetime\n",
        "import numpy as np\n",
        "np.random.seed(13)"
      ],
      "execution_count": 0,
      "outputs": []
    },
    {
      "metadata": {
        "id": "RFt4PlzEFMXe",
        "colab_type": "code",
        "outputId": "f7e5ccda-c409-4967-b61a-f954abc5e6e6",
        "colab": {
          "base_uri": "https://localhost:8080/",
          "height": 321
        }
      },
      "cell_type": "code",
      "source": [
        "# Download data in google colab, no need to run this in your laptops\n",
        "\n",
        "# Just in case...\n",
        "!rm -rf ml-latest-small*\n",
        "!wget http://files.grouplens.org/datasets/movielens/ml-latest-small.zip\n",
        "!unzip ml-latest-small.zip"
      ],
      "execution_count": 0,
      "outputs": [
        {
          "output_type": "stream",
          "text": [
            "--2019-02-25 10:53:05--  http://files.grouplens.org/datasets/movielens/ml-latest-small.zip\n",
            "Resolving files.grouplens.org (files.grouplens.org)... 128.101.34.235\n",
            "Connecting to files.grouplens.org (files.grouplens.org)|128.101.34.235|:80... connected.\n",
            "HTTP request sent, awaiting response... 200 OK\n",
            "Length: 978202 (955K) [application/zip]\n",
            "Saving to: ‘ml-latest-small.zip’\n",
            "\n",
            "\rml-latest-small.zip   0%[                    ]       0  --.-KB/s               \rml-latest-small.zip  65%[============>       ] 622.83K  3.03MB/s               \rml-latest-small.zip 100%[===================>] 955.28K  4.09MB/s    in 0.2s    \n",
            "\n",
            "2019-02-25 10:53:05 (4.09 MB/s) - ‘ml-latest-small.zip’ saved [978202/978202]\n",
            "\n",
            "Archive:  ml-latest-small.zip\n",
            "   creating: ml-latest-small/\n",
            "  inflating: ml-latest-small/links.csv  \n",
            "  inflating: ml-latest-small/tags.csv  \n",
            "  inflating: ml-latest-small/ratings.csv  \n",
            "  inflating: ml-latest-small/README.txt  \n",
            "  inflating: ml-latest-small/movies.csv  \n"
          ],
          "name": "stdout"
        }
      ]
    },
    {
      "metadata": {
        "id": "8dBBbscc-NOn",
        "colab_type": "text"
      },
      "cell_type": "markdown",
      "source": [
        "# Load data"
      ]
    },
    {
      "metadata": {
        "id": "22DhXKzx-NOq",
        "colab_type": "code",
        "colab": {}
      },
      "cell_type": "code",
      "source": [
        "data = pd.read_csv(\"ml-latest-small/ratings.csv\", index_col='timestamp', parse_dates=['timestamp'], date_parser = lambda x: datetime.datetime.fromtimestamp(int(x)))"
      ],
      "execution_count": 0,
      "outputs": []
    },
    {
      "metadata": {
        "id": "MLlbV-7k-NO0",
        "colab_type": "text"
      },
      "cell_type": "markdown",
      "source": [
        "## Process data\n",
        "**Assumption**: one rating = one request"
      ]
    },
    {
      "metadata": {
        "id": "VM1C40EE-NO2",
        "colab_type": "code",
        "outputId": "17ce2b62-0e79-425d-c9f9-0c88a0c3a893",
        "colab": {
          "base_uri": "https://localhost:8080/",
          "height": 233
        }
      },
      "cell_type": "code",
      "source": [
        "del data['userId']\n",
        "data.head()"
      ],
      "execution_count": 0,
      "outputs": [
        {
          "output_type": "execute_result",
          "data": {
            "text/html": [
              "<div>\n",
              "<style scoped>\n",
              "    .dataframe tbody tr th:only-of-type {\n",
              "        vertical-align: middle;\n",
              "    }\n",
              "\n",
              "    .dataframe tbody tr th {\n",
              "        vertical-align: top;\n",
              "    }\n",
              "\n",
              "    .dataframe thead th {\n",
              "        text-align: right;\n",
              "    }\n",
              "</style>\n",
              "<table border=\"1\" class=\"dataframe\">\n",
              "  <thead>\n",
              "    <tr style=\"text-align: right;\">\n",
              "      <th></th>\n",
              "      <th>movieId</th>\n",
              "      <th>rating</th>\n",
              "    </tr>\n",
              "    <tr>\n",
              "      <th>timestamp</th>\n",
              "      <th></th>\n",
              "      <th></th>\n",
              "    </tr>\n",
              "  </thead>\n",
              "  <tbody>\n",
              "    <tr>\n",
              "      <th>2000-07-30 18:45:03</th>\n",
              "      <td>1</td>\n",
              "      <td>4.0</td>\n",
              "    </tr>\n",
              "    <tr>\n",
              "      <th>2000-07-30 18:20:47</th>\n",
              "      <td>3</td>\n",
              "      <td>4.0</td>\n",
              "    </tr>\n",
              "    <tr>\n",
              "      <th>2000-07-30 18:37:04</th>\n",
              "      <td>6</td>\n",
              "      <td>4.0</td>\n",
              "    </tr>\n",
              "    <tr>\n",
              "      <th>2000-07-30 19:03:35</th>\n",
              "      <td>47</td>\n",
              "      <td>5.0</td>\n",
              "    </tr>\n",
              "    <tr>\n",
              "      <th>2000-07-30 18:48:51</th>\n",
              "      <td>50</td>\n",
              "      <td>5.0</td>\n",
              "    </tr>\n",
              "  </tbody>\n",
              "</table>\n",
              "</div>"
            ],
            "text/plain": [
              "                     movieId  rating\n",
              "timestamp                           \n",
              "2000-07-30 18:45:03        1     4.0\n",
              "2000-07-30 18:20:47        3     4.0\n",
              "2000-07-30 18:37:04        6     4.0\n",
              "2000-07-30 19:03:35       47     5.0\n",
              "2000-07-30 18:48:51       50     5.0"
            ]
          },
          "metadata": {
            "tags": []
          },
          "execution_count": 22
        }
      ]
    },
    {
      "metadata": {
        "id": "sZfGLCE9-NPE",
        "colab_type": "code",
        "colab": {}
      },
      "cell_type": "code",
      "source": [
        "def assign_class(n_req, total_req):\n",
        "    \"\"\"\n",
        "    assign class based on the no. of request received\n",
        "    \"\"\"\n",
        "    \n",
        "    # top 1% of the day are Class 1\n",
        "    if n_req > 0.01 * total_req:\n",
        "        return 1\n",
        "    # top 0.5% of the day are Class 2\n",
        "    elif n_req > 0.005 * total_req:\n",
        "        return 2\n",
        "    # top 0.01% of the day are Class 3\n",
        "    elif n_req > 0.001 * total_req:\n",
        "        return 3\n",
        "    # rest are Class 4\n",
        "    else:\n",
        "        return 4"
      ],
      "execution_count": 0,
      "outputs": []
    },
    {
      "metadata": {
        "id": "jSa7_Oa8-NPK",
        "colab_type": "code",
        "colab": {}
      },
      "cell_type": "code",
      "source": [
        "def group_movies(daywise_group):\n",
        "    \"\"\"\n",
        "    add request probablity to input pandas DataFrame\n",
        "    \n",
        "    :param daywise_group: a DataFrame containing movieId and corresponding ratings for a single day.\n",
        "    \"\"\"\n",
        "    df = daywise_group.groupby(\"movieId\").count()\n",
        "    # `rating` column now holds the no. of requests, so rename the column to avoid confusion\n",
        "    df.rename(columns={\"rating\":\"req\"}, inplace=True)\n",
        "    df['totalReq'] = daywise_group.shape[0]\n",
        "    # request probablity for that day\n",
        "    df['reqProb'] = daywise_group.groupby(\"movieId\").count()['rating'] / df['totalReq']\n",
        "    return df"
      ],
      "execution_count": 0,
      "outputs": []
    },
    {
      "metadata": {
        "id": "mfuWmjK6-NPS",
        "colab_type": "code",
        "outputId": "d68e7bd3-2143-4941-c829-c0c75d4cef29",
        "colab": {
          "base_uri": "https://localhost:8080/",
          "height": 233
        }
      },
      "cell_type": "code",
      "source": [
        "grouped_by_movie = data.resample(\"1w\").apply(group_movies)\n",
        "grouped_by_movie['class'] = grouped_by_movie[['req', 'totalReq']].apply(lambda x:assign_class(x['req'], x['totalReq']), axis=1)\n",
        "grouped_by_movie.reset_index(level='movieId', inplace=True)\n",
        "grouped_by_movie.head()"
      ],
      "execution_count": 0,
      "outputs": [
        {
          "output_type": "execute_result",
          "data": {
            "text/html": [
              "<div>\n",
              "<style scoped>\n",
              "    .dataframe tbody tr th:only-of-type {\n",
              "        vertical-align: middle;\n",
              "    }\n",
              "\n",
              "    .dataframe tbody tr th {\n",
              "        vertical-align: top;\n",
              "    }\n",
              "\n",
              "    .dataframe thead th {\n",
              "        text-align: right;\n",
              "    }\n",
              "</style>\n",
              "<table border=\"1\" class=\"dataframe\">\n",
              "  <thead>\n",
              "    <tr style=\"text-align: right;\">\n",
              "      <th></th>\n",
              "      <th>movieId</th>\n",
              "      <th>req</th>\n",
              "      <th>totalReq</th>\n",
              "      <th>reqProb</th>\n",
              "      <th>class</th>\n",
              "    </tr>\n",
              "    <tr>\n",
              "      <th>timestamp</th>\n",
              "      <th></th>\n",
              "      <th></th>\n",
              "      <th></th>\n",
              "      <th></th>\n",
              "      <th></th>\n",
              "    </tr>\n",
              "  </thead>\n",
              "  <tbody>\n",
              "    <tr>\n",
              "      <th>1996-03-31</th>\n",
              "      <td>22</td>\n",
              "      <td>1</td>\n",
              "      <td>58</td>\n",
              "      <td>0.017241</td>\n",
              "      <td>1</td>\n",
              "    </tr>\n",
              "    <tr>\n",
              "      <th>1996-03-31</th>\n",
              "      <td>48</td>\n",
              "      <td>1</td>\n",
              "      <td>58</td>\n",
              "      <td>0.017241</td>\n",
              "      <td>1</td>\n",
              "    </tr>\n",
              "    <tr>\n",
              "      <th>1996-03-31</th>\n",
              "      <td>60</td>\n",
              "      <td>1</td>\n",
              "      <td>58</td>\n",
              "      <td>0.017241</td>\n",
              "      <td>1</td>\n",
              "    </tr>\n",
              "    <tr>\n",
              "      <th>1996-03-31</th>\n",
              "      <td>150</td>\n",
              "      <td>1</td>\n",
              "      <td>58</td>\n",
              "      <td>0.017241</td>\n",
              "      <td>1</td>\n",
              "    </tr>\n",
              "    <tr>\n",
              "      <th>1996-03-31</th>\n",
              "      <td>151</td>\n",
              "      <td>1</td>\n",
              "      <td>58</td>\n",
              "      <td>0.017241</td>\n",
              "      <td>1</td>\n",
              "    </tr>\n",
              "  </tbody>\n",
              "</table>\n",
              "</div>"
            ],
            "text/plain": [
              "            movieId  req  totalReq   reqProb  class\n",
              "timestamp                                          \n",
              "1996-03-31       22    1        58  0.017241      1\n",
              "1996-03-31       48    1        58  0.017241      1\n",
              "1996-03-31       60    1        58  0.017241      1\n",
              "1996-03-31      150    1        58  0.017241      1\n",
              "1996-03-31      151    1        58  0.017241      1"
            ]
          },
          "metadata": {
            "tags": []
          },
          "execution_count": 31
        }
      ]
    },
    {
      "metadata": {
        "id": "znYe4_lTL9Xf",
        "colab_type": "code",
        "outputId": "52d1fdbc-0271-4dde-d202-c819d16490c3",
        "colab": {
          "base_uri": "https://localhost:8080/",
          "height": 365
        }
      },
      "cell_type": "code",
      "source": [
        "grouped_by_movie.pivot(columns='movieId', values='req').fillna(0).iloc[:100,:5].plot()"
      ],
      "execution_count": 0,
      "outputs": [
        {
          "output_type": "execute_result",
          "data": {
            "text/plain": [
              "<matplotlib.axes._subplots.AxesSubplot at 0x7f4fe08f17f0>"
            ]
          },
          "metadata": {
            "tags": []
          },
          "execution_count": 30
        },
        {
          "output_type": "display_data",
          "data": {
            "image/png": "[encoded data removed]",
            "text/plain": [
              "<Figure size 576x396 with 1 Axes>"
            ]
          },
          "metadata": {
            "tags": []
          }
        }
      ]
    },
    {
      "metadata": {
        "id": "2AcmEeT9qXxw",
        "colab_type": "code",
        "outputId": "0c0d64a6-2c51-4d99-a639-6e247f5b33fe",
        "colab": {
          "base_uri": "https://localhost:8080/",
          "height": 665
        }
      },
      "cell_type": "code",
      "source": [
        "movie_history = grouped_by_movie[grouped_by_movie['movieId'] == 1]\n",
        "movie_history['Y'] = np.roll(movie_history['class'], -1)\n",
        "movie_history['req'].plot()\n",
        "del movie_history['totalReq']\n",
        "movie_history.head()"
      ],
      "execution_count": 0,
      "outputs": [
        {
          "output_type": "stream",
          "text": [
            "/usr/local/lib/python3.6/dist-packages/ipykernel_launcher.py:2: SettingWithCopyWarning: \n",
            "A value is trying to be set on a copy of a slice from a DataFrame.\n",
            "Try using .loc[row_indexer,col_indexer] = value instead\n",
            "\n",
            "See the caveats in the documentation: http://pandas.pydata.org/pandas-docs/stable/indexing.html#indexing-view-versus-copy\n",
            "  \n"
          ],
          "name": "stderr"
        },
        {
          "output_type": "execute_result",
          "data": {
            "text/html": [
              "<div>\n",
              "<style scoped>\n",
              "    .dataframe tbody tr th:only-of-type {\n",
              "        vertical-align: middle;\n",
              "    }\n",
              "\n",
              "    .dataframe tbody tr th {\n",
              "        vertical-align: top;\n",
              "    }\n",
              "\n",
              "    .dataframe thead th {\n",
              "        text-align: right;\n",
              "    }\n",
              "</style>\n",
              "<table border=\"1\" class=\"dataframe\">\n",
              "  <thead>\n",
              "    <tr style=\"text-align: right;\">\n",
              "      <th></th>\n",
              "      <th>movieId</th>\n",
              "      <th>req</th>\n",
              "      <th>reqProb</th>\n",
              "      <th>class</th>\n",
              "      <th>Y</th>\n",
              "    </tr>\n",
              "    <tr>\n",
              "      <th>timestamp</th>\n",
              "      <th></th>\n",
              "      <th></th>\n",
              "      <th></th>\n",
              "      <th></th>\n",
              "      <th></th>\n",
              "    </tr>\n",
              "  </thead>\n",
              "  <tbody>\n",
              "    <tr>\n",
              "      <th>2000-04-26</th>\n",
              "      <td>1</td>\n",
              "      <td>7</td>\n",
              "      <td>0.001579</td>\n",
              "      <td>3</td>\n",
              "      <td>3</td>\n",
              "    </tr>\n",
              "    <tr>\n",
              "      <th>2000-04-27</th>\n",
              "      <td>1</td>\n",
              "      <td>3</td>\n",
              "      <td>0.001603</td>\n",
              "      <td>3</td>\n",
              "      <td>3</td>\n",
              "    </tr>\n",
              "    <tr>\n",
              "      <th>2000-04-28</th>\n",
              "      <td>1</td>\n",
              "      <td>3</td>\n",
              "      <td>0.001309</td>\n",
              "      <td>3</td>\n",
              "      <td>3</td>\n",
              "    </tr>\n",
              "    <tr>\n",
              "      <th>2000-04-29</th>\n",
              "      <td>1</td>\n",
              "      <td>3</td>\n",
              "      <td>0.001845</td>\n",
              "      <td>3</td>\n",
              "      <td>3</td>\n",
              "    </tr>\n",
              "    <tr>\n",
              "      <th>2000-04-30</th>\n",
              "      <td>1</td>\n",
              "      <td>1</td>\n",
              "      <td>0.001013</td>\n",
              "      <td>3</td>\n",
              "      <td>3</td>\n",
              "    </tr>\n",
              "  </tbody>\n",
              "</table>\n",
              "</div>"
            ],
            "text/plain": [
              "            movieId  req   reqProb  class  Y\n",
              "timestamp                                   \n",
              "2000-04-26        1    7  0.001579      3  3\n",
              "2000-04-27        1    3  0.001603      3  3\n",
              "2000-04-28        1    3  0.001309      3  3\n",
              "2000-04-29        1    3  0.001845      3  3\n",
              "2000-04-30        1    1  0.001013      3  3"
            ]
          },
          "metadata": {
            "tags": []
          },
          "execution_count": 9
        },
        {
          "output_type": "display_data",
          "data": {
            "image/png": "[encoded data removed]",
            "text/plain": [
              "<Figure size 576x396 with 1 Axes>"
            ]
          },
          "metadata": {
            "tags": []
          }
        }
      ]
    },
    {
      "metadata": {
        "id": "yvQlXTHUxIYG",
        "colab_type": "text"
      },
      "cell_type": "markdown",
      "source": [
        "# Crunching numbers!"
      ]
    },
    {
      "metadata": {
        "colab_type": "code",
        "outputId": "a1beb6f0-f777-434a-eead-3b4ee9471367",
        "id": "JF4jlzy7vt03",
        "colab": {
          "base_uri": "https://localhost:8080/",
          "height": 34
        }
      },
      "cell_type": "code",
      "source": [
        "from sklearn.preprocessing import OneHotEncoder, MinMaxScaler\n",
        "from sklearn.compose import ColumnTransformer, make_column_transformer\n",
        "# One-hot-encode classes\n",
        "preprocess = make_column_transformer([OneHotEncoder(categories=[np.array([1,2,3,4])]), ['class', 'Y']])\n",
        "values = movie_history.values\n",
        "one_hot_encoded = np.concatenate((list(map(lambda x:np.eye(4)[x-1], values[:,3].astype('int')) ),\n",
        "               list(map(lambda x:np.eye(4)[x-1], values[:,4].astype('int')))), axis=1)\n",
        "values = np.concatenate((movie_history.values[:,:3], one_hot_encoded), axis=1)\n",
        "\n",
        "# Scale \n",
        "scaler = MinMaxScaler()\n",
        "scaled_values = scaler.fit_transform(values)\n",
        "scaled_values.shape"
      ],
      "execution_count": 0,
      "outputs": [
        {
          "output_type": "execute_result",
          "data": {
            "text/plain": [
              "(336, 11)"
            ]
          },
          "metadata": {
            "tags": []
          },
          "execution_count": 10
        }
      ]
    },
    {
      "metadata": {
        "id": "HuxZJ9or6zfU",
        "colab_type": "text"
      },
      "cell_type": "markdown",
      "source": [
        "## Make X and Y"
      ]
    },
    {
      "metadata": {
        "id": "Na6Poqpc80oy",
        "colab_type": "code",
        "outputId": "f333c733-09dd-4ca1-e08e-e397f72895f8",
        "colab": {
          "base_uri": "https://localhost:8080/",
          "height": 51
        }
      },
      "cell_type": "code",
      "source": [
        "X = scaled_values[:,:7]\n",
        "y = scaled_values[:,7:]\n",
        "# reshape\n",
        "X = X.reshape(X.shape[0], 1, 7)\n",
        "y = y.reshape(y.shape[0], 1, 4)\n",
        "print(X.shape)\n",
        "print(y.shape)"
      ],
      "execution_count": 0,
      "outputs": [
        {
          "output_type": "stream",
          "text": [
            "(336, 1, 7)\n",
            "(336, 1, 4)\n"
          ],
          "name": "stdout"
        }
      ]
    },
    {
      "metadata": {
        "id": "Cn6Ty1x_8-RJ",
        "colab_type": "text"
      },
      "cell_type": "markdown",
      "source": [
        "## train_test_split"
      ]
    },
    {
      "metadata": {
        "id": "dex1WVxW9Nnb",
        "colab_type": "code",
        "colab": {}
      },
      "cell_type": "code",
      "source": [
        "from sklearn.model_selection import train_test_split\n",
        "X_train, X_test, y_train, y_test = train_test_split(X, y, test_size=0.33, shuffle=False)"
      ],
      "execution_count": 0,
      "outputs": []
    },
    {
      "metadata": {
        "id": "gZIh47O_9Xe6",
        "colab_type": "text"
      },
      "cell_type": "markdown",
      "source": [
        "# Make Model"
      ]
    },
    {
      "metadata": {
        "id": "eZ6uF_wo9f4a",
        "colab_type": "code",
        "outputId": "4a815d01-d8b9-4670-f6ea-d05f543c5394",
        "colab": {
          "base_uri": "https://localhost:8080/",
          "height": 443
        }
      },
      "cell_type": "code",
      "source": [
        "from keras.models import Sequential\n",
        "from keras.layers import Dropout, LSTM, BatchNormalization, TimeDistributed, Dense, Activation\n",
        "model = Sequential()\n",
        "model.add(BatchNormalization(input_shape=(1,X_train.shape[2])))\n",
        "model.add(LSTM(4, return_sequences=True))\n",
        "model.add(LSTM(1, dropout=0.2, return_sequences=True))\n",
        "model.add(TimeDistributed(Dense(y_train.shape[2])))\n",
        "model.add(Activation('softmax'))\n",
        "model.compile(optimizer='adam', loss='categorical_crossentropy', metrics=['accuracy'])\n",
        "model.summary()"
      ],
      "execution_count": 0,
      "outputs": [
        {
          "output_type": "stream",
          "text": [
            "Using TensorFlow backend.\n"
          ],
          "name": "stderr"
        },
        {
          "output_type": "stream",
          "text": [
            "WARNING:tensorflow:From /usr/local/lib/python3.6/dist-packages/tensorflow/python/framework/op_def_library.py:263: colocate_with (from tensorflow.python.framework.ops) is deprecated and will be removed in a future version.\n",
            "Instructions for updating:\n",
            "Colocations handled automatically by placer.\n",
            "WARNING:tensorflow:From /usr/local/lib/python3.6/dist-packages/keras/backend/tensorflow_backend.py:3445: calling dropout (from tensorflow.python.ops.nn_ops) with keep_prob is deprecated and will be removed in a future version.\n",
            "Instructions for updating:\n",
            "Please use `rate` instead of `keep_prob`. Rate should be set to `rate = 1 - keep_prob`.\n",
            "_________________________________________________________________\n",
            "Layer (type)                 Output Shape              Param #   \n",
            "=================================================================\n",
            "batch_normalization_1 (Batch (None, 1, 7)              28        \n",
            "_________________________________________________________________\n",
            "lstm_1 (LSTM)                (None, 1, 4)              192       \n",
            "_________________________________________________________________\n",
            "lstm_2 (LSTM)                (None, 1, 1)              24        \n",
            "_________________________________________________________________\n",
            "time_distributed_1 (TimeDist (None, 1, 4)              8         \n",
            "_________________________________________________________________\n",
            "activation_1 (Activation)    (None, 1, 4)              0         \n",
            "=================================================================\n",
            "Total params: 252\n",
            "Trainable params: 238\n",
            "Non-trainable params: 14\n",
            "_________________________________________________________________\n"
          ],
          "name": "stdout"
        }
      ]
    },
    {
      "metadata": {
        "id": "6sjFOYBKEY1Z",
        "colab_type": "code",
        "outputId": "15d57d02-6812-4fa9-dfb0-31aa9648bcb0",
        "colab": {
          "base_uri": "https://localhost:8080/",
          "height": 477
        }
      },
      "cell_type": "code",
      "source": [
        "history = model.fit(X_train, y_train, batch_size=10, epochs=10)"
      ],
      "execution_count": 0,
      "outputs": [
        {
          "output_type": "stream",
          "text": [
            "WARNING:tensorflow:From /usr/local/lib/python3.6/dist-packages/tensorflow/python/ops/math_ops.py:3066: to_int32 (from tensorflow.python.ops.math_ops) is deprecated and will be removed in a future version.\n",
            "Instructions for updating:\n",
            "Use tf.cast instead.\n",
            "WARNING:tensorflow:From /usr/local/lib/python3.6/dist-packages/tensorflow/python/ops/math_grad.py:102: div (from tensorflow.python.ops.math_ops) is deprecated and will be removed in a future version.\n",
            "Instructions for updating:\n",
            "Deprecated in favor of operator or tf.math.divide.\n",
            "Epoch 1/10\n",
            "225/225 [==============================] - 2s 9ms/step - loss: 1.3751 - acc: 0.6756\n",
            "Epoch 2/10\n",
            "225/225 [==============================] - 0s 357us/step - loss: 1.3319 - acc: 0.8178\n",
            "Epoch 3/10\n",
            "225/225 [==============================] - 0s 381us/step - loss: 1.2859 - acc: 0.8800\n",
            "Epoch 4/10\n",
            "225/225 [==============================] - 0s 362us/step - loss: 1.2399 - acc: 0.8933\n",
            "Epoch 5/10\n",
            "225/225 [==============================] - 0s 406us/step - loss: 1.1831 - acc: 0.9244\n",
            "Epoch 6/10\n",
            "225/225 [==============================] - 0s 393us/step - loss: 1.1302 - acc: 0.9200\n",
            "Epoch 7/10\n",
            "225/225 [==============================] - 0s 352us/step - loss: 1.0693 - acc: 0.9244\n",
            "Epoch 8/10\n",
            "225/225 [==============================] - 0s 355us/step - loss: 1.0105 - acc: 0.9244\n",
            "Epoch 9/10\n",
            "225/225 [==============================] - 0s 347us/step - loss: 0.9434 - acc: 0.9244\n",
            "Epoch 10/10\n",
            "225/225 [==============================] - 0s 362us/step - loss: 0.8763 - acc: 0.9244\n"
          ],
          "name": "stdout"
        }
      ]
    },
    {
      "metadata": {
        "id": "dktSh9mMH92G",
        "colab_type": "code",
        "outputId": "61a58f2b-6a83-4f4d-a33b-345bdc31077a",
        "colab": {
          "base_uri": "https://localhost:8080/",
          "height": 68
        }
      },
      "cell_type": "code",
      "source": [
        "score, acc = model.evaluate(X_test, y_test,\n",
        "                            batch_size=100)\n",
        "print('Test score:', score)\n",
        "print('Test accuracy:', acc)"
      ],
      "execution_count": 0,
      "outputs": [
        {
          "output_type": "stream",
          "text": [
            "111/111 [==============================] - 0s 2ms/step\n",
            "Test score: 1.189915159801105\n",
            "Test accuracy: 0.5585585805746887\n"
          ],
          "name": "stdout"
        }
      ]
    }
  ]
}