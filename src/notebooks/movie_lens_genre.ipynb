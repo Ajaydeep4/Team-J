{
  "nbformat": 4,
  "nbformat_minor": 0,
  "metadata": {
    "colab": {
      "name": "movie_lens-genre.ipynb",
      "version": "0.3.2",
      "provenance": [],
      "collapsed_sections": []
    },
    "kernelspec": {
      "display_name": "Python 3",
      "language": "python",
      "name": "python3"
    }
  },
  "cells": [
    {
      "metadata": {
        "colab_type": "text",
        "id": "6g9lt3hA-NOR"
      },
      "cell_type": "markdown",
      "source": [
        "# Import libraries"
      ]
    },
    {
      "metadata": {
        "colab_type": "code",
        "id": "gk-MroIZ-NOW",
        "colab": {}
      },
      "cell_type": "code",
      "source": [
        "import pandas as pd\n",
        "import matplotlib.pyplot as plt\n",
        "import datetime\n",
        "import numpy as np\n",
        "np.random.seed(13)"
      ],
      "execution_count": 0,
      "outputs": []
    },
    {
      "metadata": {
        "colab_type": "code",
        "id": "RFt4PlzEFMXe",
        "outputId": "a8f1673d-e522-48e9-ce79-695af465833a",
        "colab": {
          "base_uri": "https://localhost:8080/",
          "height": 321
        }
      },
      "cell_type": "code",
      "source": [
        "# Download data in google colab, no need to run this in your laptops\n",
        "\n",
        "# Just in case...\n",
        "!rm -rf ml-latest-small*\n",
        "!wget http://files.grouplens.org/datasets/movielens/ml-latest-small.zip\n",
        "!unzip ml-latest-small.zip"
      ],
      "execution_count": 2,
      "outputs": [
        {
          "output_type": "stream",
          "text": [
            "--2019-04-06 05:44:20--  http://files.grouplens.org/datasets/movielens/ml-latest-small.zip\n",
            "Resolving files.grouplens.org (files.grouplens.org)... 128.101.34.235\n",
            "Connecting to files.grouplens.org (files.grouplens.org)|128.101.34.235|:80... connected.\n",
            "HTTP request sent, awaiting response... 200 OK\n",
            "Length: 978202 (955K) [application/zip]\n",
            "Saving to: ‘ml-latest-small.zip’\n",
            "\n",
            "\rml-latest-small.zip   0%[                    ]       0  --.-KB/s               \rml-latest-small.zip  23%[===>                ] 219.82K  1.07MB/s               \rml-latest-small.zip 100%[===================>] 955.28K  3.10MB/s    in 0.3s    \n",
            "\n",
            "2019-04-06 05:44:20 (3.10 MB/s) - ‘ml-latest-small.zip’ saved [978202/978202]\n",
            "\n",
            "Archive:  ml-latest-small.zip\n",
            "   creating: ml-latest-small/\n",
            "  inflating: ml-latest-small/links.csv  \n",
            "  inflating: ml-latest-small/tags.csv  \n",
            "  inflating: ml-latest-small/ratings.csv  \n",
            "  inflating: ml-latest-small/README.txt  \n",
            "  inflating: ml-latest-small/movies.csv  \n"
          ],
          "name": "stdout"
        }
      ]
    },
    {
      "metadata": {
        "colab_type": "text",
        "id": "8dBBbscc-NOn"
      },
      "cell_type": "markdown",
      "source": [
        "# Load data"
      ]
    },
    {
      "metadata": {
        "colab_type": "code",
        "id": "22DhXKzx-NOq",
        "colab": {}
      },
      "cell_type": "code",
      "source": [
        "rating_data = pd.read_csv(\"ml-latest-small/ratings.csv\", index_col='timestamp', parse_dates=['timestamp'], date_parser = lambda x: datetime.datetime.fromtimestamp(int(x)))\n",
        "movie_data = pd.read_csv(\"ml-latest-small/movies.csv\", index_col='movieId')"
      ],
      "execution_count": 0,
      "outputs": []
    },
    {
      "metadata": {
        "colab_type": "text",
        "id": "MLlbV-7k-NO0"
      },
      "cell_type": "markdown",
      "source": [
        "## Process data\n",
        "**Assumption**: one rating = one request"
      ]
    },
    {
      "metadata": {
        "colab_type": "code",
        "id": "VM1C40EE-NO2",
        "outputId": "71bec5f4-0a5e-4e81-a9cf-8a220ce870d0",
        "colab": {
          "base_uri": "https://localhost:8080/",
          "height": 233
        }
      },
      "cell_type": "code",
      "source": [
        "del rating_data['userId']\n",
        "rating_data.head()"
      ],
      "execution_count": 27,
      "outputs": [
        {
          "output_type": "execute_result",
          "data": {
            "text/html": [
              "<div>\n",
              "<style scoped>\n",
              "    .dataframe tbody tr th:only-of-type {\n",
              "        vertical-align: middle;\n",
              "    }\n",
              "\n",
              "    .dataframe tbody tr th {\n",
              "        vertical-align: top;\n",
              "    }\n",
              "\n",
              "    .dataframe thead th {\n",
              "        text-align: right;\n",
              "    }\n",
              "</style>\n",
              "<table border=\"1\" class=\"dataframe\">\n",
              "  <thead>\n",
              "    <tr style=\"text-align: right;\">\n",
              "      <th></th>\n",
              "      <th>movieId</th>\n",
              "      <th>rating</th>\n",
              "    </tr>\n",
              "    <tr>\n",
              "      <th>timestamp</th>\n",
              "      <th></th>\n",
              "      <th></th>\n",
              "    </tr>\n",
              "  </thead>\n",
              "  <tbody>\n",
              "    <tr>\n",
              "      <th>2000-07-30 18:45:03</th>\n",
              "      <td>1</td>\n",
              "      <td>4.0</td>\n",
              "    </tr>\n",
              "    <tr>\n",
              "      <th>2000-07-30 18:20:47</th>\n",
              "      <td>3</td>\n",
              "      <td>4.0</td>\n",
              "    </tr>\n",
              "    <tr>\n",
              "      <th>2000-07-30 18:37:04</th>\n",
              "      <td>6</td>\n",
              "      <td>4.0</td>\n",
              "    </tr>\n",
              "    <tr>\n",
              "      <th>2000-07-30 19:03:35</th>\n",
              "      <td>47</td>\n",
              "      <td>5.0</td>\n",
              "    </tr>\n",
              "    <tr>\n",
              "      <th>2000-07-30 18:48:51</th>\n",
              "      <td>50</td>\n",
              "      <td>5.0</td>\n",
              "    </tr>\n",
              "  </tbody>\n",
              "</table>\n",
              "</div>"
            ],
            "text/plain": [
              "                     movieId  rating\n",
              "timestamp                           \n",
              "2000-07-30 18:45:03        1     4.0\n",
              "2000-07-30 18:20:47        3     4.0\n",
              "2000-07-30 18:37:04        6     4.0\n",
              "2000-07-30 19:03:35       47     5.0\n",
              "2000-07-30 18:48:51       50     5.0"
            ]
          },
          "metadata": {
            "tags": []
          },
          "execution_count": 27
        }
      ]
    },
    {
      "metadata": {
        "id": "np_DyyDkOYoK",
        "colab_type": "code",
        "colab": {
          "base_uri": "https://localhost:8080/",
          "height": 233
        },
        "outputId": "e7ca1261-c22f-4dae-f162-63180511036a"
      },
      "cell_type": "code",
      "source": [
        "del movie_data['title']\n",
        "movie_data.head()"
      ],
      "execution_count": 28,
      "outputs": [
        {
          "output_type": "execute_result",
          "data": {
            "text/html": [
              "<div>\n",
              "<style scoped>\n",
              "    .dataframe tbody tr th:only-of-type {\n",
              "        vertical-align: middle;\n",
              "    }\n",
              "\n",
              "    .dataframe tbody tr th {\n",
              "        vertical-align: top;\n",
              "    }\n",
              "\n",
              "    .dataframe thead th {\n",
              "        text-align: right;\n",
              "    }\n",
              "</style>\n",
              "<table border=\"1\" class=\"dataframe\">\n",
              "  <thead>\n",
              "    <tr style=\"text-align: right;\">\n",
              "      <th></th>\n",
              "      <th>genres</th>\n",
              "    </tr>\n",
              "    <tr>\n",
              "      <th>movieId</th>\n",
              "      <th></th>\n",
              "    </tr>\n",
              "  </thead>\n",
              "  <tbody>\n",
              "    <tr>\n",
              "      <th>1</th>\n",
              "      <td>Adventure|Animation|Children|Comedy|Fantasy</td>\n",
              "    </tr>\n",
              "    <tr>\n",
              "      <th>2</th>\n",
              "      <td>Adventure|Children|Fantasy</td>\n",
              "    </tr>\n",
              "    <tr>\n",
              "      <th>3</th>\n",
              "      <td>Comedy|Romance</td>\n",
              "    </tr>\n",
              "    <tr>\n",
              "      <th>4</th>\n",
              "      <td>Comedy|Drama|Romance</td>\n",
              "    </tr>\n",
              "    <tr>\n",
              "      <th>5</th>\n",
              "      <td>Comedy</td>\n",
              "    </tr>\n",
              "  </tbody>\n",
              "</table>\n",
              "</div>"
            ],
            "text/plain": [
              "                                              genres\n",
              "movieId                                             \n",
              "1        Adventure|Animation|Children|Comedy|Fantasy\n",
              "2                         Adventure|Children|Fantasy\n",
              "3                                     Comedy|Romance\n",
              "4                               Comedy|Drama|Romance\n",
              "5                                             Comedy"
            ]
          },
          "metadata": {
            "tags": []
          },
          "execution_count": 28
        }
      ]
    },
    {
      "metadata": {
        "colab_type": "code",
        "id": "sZfGLCE9-NPE",
        "colab": {}
      },
      "cell_type": "code",
      "source": [
        "def assign_class(n_req, total_req):\n",
        "    \"\"\"\n",
        "    assign class based on the no. of request received\n",
        "    \"\"\"\n",
        "    \n",
        "    # top 1% of the day are Class 1\n",
        "    if n_req > 0.01 * total_req:\n",
        "        return 1\n",
        "    # top 0.5% of the day are Class 2\n",
        "    elif n_req > 0.005 * total_req:\n",
        "        return 2\n",
        "    # top 0.01% of the day are Class 3\n",
        "    elif n_req > 0.001 * total_req:\n",
        "        return 3\n",
        "    # rest are Class 4\n",
        "    else:\n",
        "        return 4"
      ],
      "execution_count": 0,
      "outputs": []
    },
    {
      "metadata": {
        "colab_type": "code",
        "id": "jSa7_Oa8-NPK",
        "colab": {}
      },
      "cell_type": "code",
      "source": [
        "def group_movies(daywise_group):\n",
        "    \"\"\"\n",
        "    add request probablity to input pandas DataFrame\n",
        "    \n",
        "    :param daywise_group: a DataFrame containing movieId and corresponding ratings for a single day.\n",
        "    \"\"\"\n",
        "\n",
        "    df = daywise_group.groupby(\"movieId\").count()   \n",
        "    # `rating` column now holds the no. of requests, so rename the column to avoid confusion\n",
        "    df.rename(columns={\"rating\":\"req\"}, inplace=True)\n",
        "    df['totalReq'] = daywise_group.shape[0]\n",
        "    # request probablity for that day\n",
        "    df['reqProb'] = daywise_group.groupby(\"movieId\").count()['rating'] / df['totalReq']\n",
        "    return df"
      ],
      "execution_count": 0,
      "outputs": []
    },
    {
      "metadata": {
        "colab_type": "code",
        "id": "mfuWmjK6-NPS",
        "outputId": "d0d2ebba-2f46-4ef0-c78f-6ff7355e9498",
        "colab": {
          "base_uri": "https://localhost:8080/",
          "height": 233
        }
      },
      "cell_type": "code",
      "source": [
        "grouped_by_movie = rating_data.resample(\"1y\").apply(group_movies)\n",
        "grouped_by_movie['class'] = grouped_by_movie[['req', 'totalReq']].apply(lambda x:assign_class(x['req'], x['totalReq']), axis=1)\n",
        "grouped_by_movie.reset_index(level='movieId', inplace=True)\n",
        "grouped_by_movie.head()"
      ],
      "execution_count": 34,
      "outputs": [
        {
          "output_type": "execute_result",
          "data": {
            "text/html": [
              "<div>\n",
              "<style scoped>\n",
              "    .dataframe tbody tr th:only-of-type {\n",
              "        vertical-align: middle;\n",
              "    }\n",
              "\n",
              "    .dataframe tbody tr th {\n",
              "        vertical-align: top;\n",
              "    }\n",
              "\n",
              "    .dataframe thead th {\n",
              "        text-align: right;\n",
              "    }\n",
              "</style>\n",
              "<table border=\"1\" class=\"dataframe\">\n",
              "  <thead>\n",
              "    <tr style=\"text-align: right;\">\n",
              "      <th></th>\n",
              "      <th>movieId</th>\n",
              "      <th>req</th>\n",
              "      <th>totalReq</th>\n",
              "      <th>reqProb</th>\n",
              "      <th>class</th>\n",
              "    </tr>\n",
              "    <tr>\n",
              "      <th>timestamp</th>\n",
              "      <th></th>\n",
              "      <th></th>\n",
              "      <th></th>\n",
              "      <th></th>\n",
              "      <th></th>\n",
              "    </tr>\n",
              "  </thead>\n",
              "  <tbody>\n",
              "    <tr>\n",
              "      <th>1996-12-31</th>\n",
              "      <td>1</td>\n",
              "      <td>33</td>\n",
              "      <td>6040</td>\n",
              "      <td>0.005464</td>\n",
              "      <td>2</td>\n",
              "    </tr>\n",
              "    <tr>\n",
              "      <th>1996-12-31</th>\n",
              "      <td>2</td>\n",
              "      <td>26</td>\n",
              "      <td>6040</td>\n",
              "      <td>0.004305</td>\n",
              "      <td>3</td>\n",
              "    </tr>\n",
              "    <tr>\n",
              "      <th>1996-12-31</th>\n",
              "      <td>3</td>\n",
              "      <td>12</td>\n",
              "      <td>6040</td>\n",
              "      <td>0.001987</td>\n",
              "      <td>3</td>\n",
              "    </tr>\n",
              "    <tr>\n",
              "      <th>1996-12-31</th>\n",
              "      <td>4</td>\n",
              "      <td>5</td>\n",
              "      <td>6040</td>\n",
              "      <td>0.000828</td>\n",
              "      <td>4</td>\n",
              "    </tr>\n",
              "    <tr>\n",
              "      <th>1996-12-31</th>\n",
              "      <td>5</td>\n",
              "      <td>18</td>\n",
              "      <td>6040</td>\n",
              "      <td>0.002980</td>\n",
              "      <td>3</td>\n",
              "    </tr>\n",
              "  </tbody>\n",
              "</table>\n",
              "</div>"
            ],
            "text/plain": [
              "            movieId  req  totalReq   reqProb  class\n",
              "timestamp                                          \n",
              "1996-12-31        1   33      6040  0.005464      2\n",
              "1996-12-31        2   26      6040  0.004305      3\n",
              "1996-12-31        3   12      6040  0.001987      3\n",
              "1996-12-31        4    5      6040  0.000828      4\n",
              "1996-12-31        5   18      6040  0.002980      3"
            ]
          },
          "metadata": {
            "tags": []
          },
          "execution_count": 34
        }
      ]
    },
    {
      "metadata": {
        "id": "C8-Oo6sUUfro",
        "colab_type": "code",
        "colab": {
          "base_uri": "https://localhost:8080/",
          "height": 378
        },
        "outputId": "5db2055f-c250-4443-b4f6-509b6de5a45c"
      },
      "cell_type": "code",
      "source": [
        "grouped_by_movie.pivot(columns='movieId', values='class').fillna(0).iloc[:100,:5].plot()"
      ],
      "execution_count": 50,
      "outputs": [
        {
          "output_type": "execute_result",
          "data": {
            "text/plain": [
              "<matplotlib.axes._subplots.AxesSubplot at 0x7f83b4601160>"
            ]
          },
          "metadata": {
            "tags": []
          },
          "execution_count": 50
        },
        {
          "output_type": "display_data",
          "data": {
            "image/png": "[encoded data removed]",
            "text/plain": [
              "<Figure size 576x396 with 1 Axes>"
            ]
          },
          "metadata": {
            "tags": []
          }
        }
      ]
    },
    {
      "metadata": {
        "id": "QGSxBNfPO_Ia",
        "colab_type": "text"
      },
      "cell_type": "markdown",
      "source": [
        "### Add genres"
      ]
    },
    {
      "metadata": {
        "id": "vI-9MS-HO9C_",
        "colab_type": "code",
        "colab": {
          "base_uri": "https://localhost:8080/",
          "height": 233
        },
        "outputId": "018e728d-6e38-4e7b-a17a-c7c5c664658e"
      },
      "cell_type": "code",
      "source": [
        "grouped_by_movie = pd.merge(grouped_by_movie.reset_index(), movie_data.reset_index())\n",
        "grouped_by_movie.set_index('timestamp', inplace = True)\n",
        "grouped_by_movie.head()"
      ],
      "execution_count": 40,
      "outputs": [
        {
          "output_type": "execute_result",
          "data": {
            "text/html": [
              "<div>\n",
              "<style scoped>\n",
              "    .dataframe tbody tr th:only-of-type {\n",
              "        vertical-align: middle;\n",
              "    }\n",
              "\n",
              "    .dataframe tbody tr th {\n",
              "        vertical-align: top;\n",
              "    }\n",
              "\n",
              "    .dataframe thead th {\n",
              "        text-align: right;\n",
              "    }\n",
              "</style>\n",
              "<table border=\"1\" class=\"dataframe\">\n",
              "  <thead>\n",
              "    <tr style=\"text-align: right;\">\n",
              "      <th></th>\n",
              "      <th>movieId</th>\n",
              "      <th>req</th>\n",
              "      <th>totalReq</th>\n",
              "      <th>reqProb</th>\n",
              "      <th>class</th>\n",
              "      <th>genres</th>\n",
              "    </tr>\n",
              "    <tr>\n",
              "      <th>timestamp</th>\n",
              "      <th></th>\n",
              "      <th></th>\n",
              "      <th></th>\n",
              "      <th></th>\n",
              "      <th></th>\n",
              "      <th></th>\n",
              "    </tr>\n",
              "  </thead>\n",
              "  <tbody>\n",
              "    <tr>\n",
              "      <th>1996-12-31</th>\n",
              "      <td>1</td>\n",
              "      <td>33</td>\n",
              "      <td>6040</td>\n",
              "      <td>0.005464</td>\n",
              "      <td>2</td>\n",
              "      <td>Adventure|Animation|Children|Comedy|Fantasy</td>\n",
              "    </tr>\n",
              "    <tr>\n",
              "      <th>1997-12-31</th>\n",
              "      <td>1</td>\n",
              "      <td>22</td>\n",
              "      <td>1916</td>\n",
              "      <td>0.011482</td>\n",
              "      <td>1</td>\n",
              "      <td>Adventure|Animation|Children|Comedy|Fantasy</td>\n",
              "    </tr>\n",
              "    <tr>\n",
              "      <th>1998-12-31</th>\n",
              "      <td>1</td>\n",
              "      <td>1</td>\n",
              "      <td>507</td>\n",
              "      <td>0.001972</td>\n",
              "      <td>3</td>\n",
              "      <td>Adventure|Animation|Children|Comedy|Fantasy</td>\n",
              "    </tr>\n",
              "    <tr>\n",
              "      <th>1999-12-31</th>\n",
              "      <td>1</td>\n",
              "      <td>9</td>\n",
              "      <td>2439</td>\n",
              "      <td>0.003690</td>\n",
              "      <td>3</td>\n",
              "      <td>Adventure|Animation|Children|Comedy|Fantasy</td>\n",
              "    </tr>\n",
              "    <tr>\n",
              "      <th>2000-12-31</th>\n",
              "      <td>1</td>\n",
              "      <td>18</td>\n",
              "      <td>10061</td>\n",
              "      <td>0.001789</td>\n",
              "      <td>3</td>\n",
              "      <td>Adventure|Animation|Children|Comedy|Fantasy</td>\n",
              "    </tr>\n",
              "  </tbody>\n",
              "</table>\n",
              "</div>"
            ],
            "text/plain": [
              "            movieId  req  totalReq   reqProb  class  \\\n",
              "timestamp                                             \n",
              "1996-12-31        1   33      6040  0.005464      2   \n",
              "1997-12-31        1   22      1916  0.011482      1   \n",
              "1998-12-31        1    1       507  0.001972      3   \n",
              "1999-12-31        1    9      2439  0.003690      3   \n",
              "2000-12-31        1   18     10061  0.001789      3   \n",
              "\n",
              "                                                 genres  \n",
              "timestamp                                                \n",
              "1996-12-31  Adventure|Animation|Children|Comedy|Fantasy  \n",
              "1997-12-31  Adventure|Animation|Children|Comedy|Fantasy  \n",
              "1998-12-31  Adventure|Animation|Children|Comedy|Fantasy  \n",
              "1999-12-31  Adventure|Animation|Children|Comedy|Fantasy  \n",
              "2000-12-31  Adventure|Animation|Children|Comedy|Fantasy  "
            ]
          },
          "metadata": {
            "tags": []
          },
          "execution_count": 40
        }
      ]
    },
    {
      "metadata": {
        "id": "CjMOU2uIeXef",
        "colab_type": "code",
        "outputId": "195607c0-47d7-4575-8968-74c6a6a67216",
        "colab": {
          "base_uri": "https://localhost:8080/",
          "height": 262
        }
      },
      "cell_type": "code",
      "source": [
        "# Convert genres(str) to a binary matrix\n",
        "# because string are good for humans but\n",
        "# machines like numbers!\n",
        "from sklearn.preprocessing import MultiLabelBinarizer\n",
        "splitted = grouped_by_movie.apply(lambda x:x['genres'].split(\"|\"), axis=1)\n",
        "mlb = MultiLabelBinarizer()\n",
        "genre_matrix = mlb.fit_transform(splitted)\n",
        "\n",
        "genre_df = pd.DataFrame(genre_matrix)\n",
        "\n",
        "with_genre = pd.merge(grouped_by_movie.reset_index(), genre_df.reset_index(), left_index=True, right_index=True)\n",
        "del with_genre['genres'], with_genre['index']\n",
        "\n",
        "# shift class column to the end\n",
        "with_genre = with_genre[ list(filter(lambda x: x!='class', with_genre.columns)) + ['class']]\n",
        "\n",
        "with_genre.set_index('timestamp', inplace = True)\n",
        "with_genre.head()"
      ],
      "execution_count": 48,
      "outputs": [
        {
          "output_type": "execute_result",
          "data": {
            "text/html": [
              "<div>\n",
              "<style scoped>\n",
              "    .dataframe tbody tr th:only-of-type {\n",
              "        vertical-align: middle;\n",
              "    }\n",
              "\n",
              "    .dataframe tbody tr th {\n",
              "        vertical-align: top;\n",
              "    }\n",
              "\n",
              "    .dataframe thead th {\n",
              "        text-align: right;\n",
              "    }\n",
              "</style>\n",
              "<table border=\"1\" class=\"dataframe\">\n",
              "  <thead>\n",
              "    <tr style=\"text-align: right;\">\n",
              "      <th></th>\n",
              "      <th>movieId</th>\n",
              "      <th>req</th>\n",
              "      <th>totalReq</th>\n",
              "      <th>reqProb</th>\n",
              "      <th>0</th>\n",
              "      <th>1</th>\n",
              "      <th>2</th>\n",
              "      <th>3</th>\n",
              "      <th>4</th>\n",
              "      <th>5</th>\n",
              "      <th>...</th>\n",
              "      <th>11</th>\n",
              "      <th>12</th>\n",
              "      <th>13</th>\n",
              "      <th>14</th>\n",
              "      <th>15</th>\n",
              "      <th>16</th>\n",
              "      <th>17</th>\n",
              "      <th>18</th>\n",
              "      <th>19</th>\n",
              "      <th>class</th>\n",
              "    </tr>\n",
              "    <tr>\n",
              "      <th>timestamp</th>\n",
              "      <th></th>\n",
              "      <th></th>\n",
              "      <th></th>\n",
              "      <th></th>\n",
              "      <th></th>\n",
              "      <th></th>\n",
              "      <th></th>\n",
              "      <th></th>\n",
              "      <th></th>\n",
              "      <th></th>\n",
              "      <th></th>\n",
              "      <th></th>\n",
              "      <th></th>\n",
              "      <th></th>\n",
              "      <th></th>\n",
              "      <th></th>\n",
              "      <th></th>\n",
              "      <th></th>\n",
              "      <th></th>\n",
              "      <th></th>\n",
              "      <th></th>\n",
              "    </tr>\n",
              "  </thead>\n",
              "  <tbody>\n",
              "    <tr>\n",
              "      <th>1996-12-31</th>\n",
              "      <td>1</td>\n",
              "      <td>33</td>\n",
              "      <td>6040</td>\n",
              "      <td>0.005464</td>\n",
              "      <td>0</td>\n",
              "      <td>0</td>\n",
              "      <td>1</td>\n",
              "      <td>1</td>\n",
              "      <td>1</td>\n",
              "      <td>1</td>\n",
              "      <td>...</td>\n",
              "      <td>0</td>\n",
              "      <td>0</td>\n",
              "      <td>0</td>\n",
              "      <td>0</td>\n",
              "      <td>0</td>\n",
              "      <td>0</td>\n",
              "      <td>0</td>\n",
              "      <td>0</td>\n",
              "      <td>0</td>\n",
              "      <td>2</td>\n",
              "    </tr>\n",
              "    <tr>\n",
              "      <th>1997-12-31</th>\n",
              "      <td>1</td>\n",
              "      <td>22</td>\n",
              "      <td>1916</td>\n",
              "      <td>0.011482</td>\n",
              "      <td>0</td>\n",
              "      <td>0</td>\n",
              "      <td>1</td>\n",
              "      <td>1</td>\n",
              "      <td>1</td>\n",
              "      <td>1</td>\n",
              "      <td>...</td>\n",
              "      <td>0</td>\n",
              "      <td>0</td>\n",
              "      <td>0</td>\n",
              "      <td>0</td>\n",
              "      <td>0</td>\n",
              "      <td>0</td>\n",
              "      <td>0</td>\n",
              "      <td>0</td>\n",
              "      <td>0</td>\n",
              "      <td>1</td>\n",
              "    </tr>\n",
              "    <tr>\n",
              "      <th>1998-12-31</th>\n",
              "      <td>1</td>\n",
              "      <td>1</td>\n",
              "      <td>507</td>\n",
              "      <td>0.001972</td>\n",
              "      <td>0</td>\n",
              "      <td>0</td>\n",
              "      <td>1</td>\n",
              "      <td>1</td>\n",
              "      <td>1</td>\n",
              "      <td>1</td>\n",
              "      <td>...</td>\n",
              "      <td>0</td>\n",
              "      <td>0</td>\n",
              "      <td>0</td>\n",
              "      <td>0</td>\n",
              "      <td>0</td>\n",
              "      <td>0</td>\n",
              "      <td>0</td>\n",
              "      <td>0</td>\n",
              "      <td>0</td>\n",
              "      <td>3</td>\n",
              "    </tr>\n",
              "    <tr>\n",
              "      <th>1999-12-31</th>\n",
              "      <td>1</td>\n",
              "      <td>9</td>\n",
              "      <td>2439</td>\n",
              "      <td>0.003690</td>\n",
              "      <td>0</td>\n",
              "      <td>0</td>\n",
              "      <td>1</td>\n",
              "      <td>1</td>\n",
              "      <td>1</td>\n",
              "      <td>1</td>\n",
              "      <td>...</td>\n",
              "      <td>0</td>\n",
              "      <td>0</td>\n",
              "      <td>0</td>\n",
              "      <td>0</td>\n",
              "      <td>0</td>\n",
              "      <td>0</td>\n",
              "      <td>0</td>\n",
              "      <td>0</td>\n",
              "      <td>0</td>\n",
              "      <td>3</td>\n",
              "    </tr>\n",
              "    <tr>\n",
              "      <th>2000-12-31</th>\n",
              "      <td>1</td>\n",
              "      <td>18</td>\n",
              "      <td>10061</td>\n",
              "      <td>0.001789</td>\n",
              "      <td>0</td>\n",
              "      <td>0</td>\n",
              "      <td>1</td>\n",
              "      <td>1</td>\n",
              "      <td>1</td>\n",
              "      <td>1</td>\n",
              "      <td>...</td>\n",
              "      <td>0</td>\n",
              "      <td>0</td>\n",
              "      <td>0</td>\n",
              "      <td>0</td>\n",
              "      <td>0</td>\n",
              "      <td>0</td>\n",
              "      <td>0</td>\n",
              "      <td>0</td>\n",
              "      <td>0</td>\n",
              "      <td>3</td>\n",
              "    </tr>\n",
              "  </tbody>\n",
              "</table>\n",
              "<p>5 rows × 25 columns</p>\n",
              "</div>"
            ],
            "text/plain": [
              "            movieId  req  totalReq   reqProb  0  1  2  3  4  5  ...    11  12  \\\n",
              "timestamp                                                       ...             \n",
              "1996-12-31        1   33      6040  0.005464  0  0  1  1  1  1  ...     0   0   \n",
              "1997-12-31        1   22      1916  0.011482  0  0  1  1  1  1  ...     0   0   \n",
              "1998-12-31        1    1       507  0.001972  0  0  1  1  1  1  ...     0   0   \n",
              "1999-12-31        1    9      2439  0.003690  0  0  1  1  1  1  ...     0   0   \n",
              "2000-12-31        1   18     10061  0.001789  0  0  1  1  1  1  ...     0   0   \n",
              "\n",
              "            13  14  15  16  17  18  19  class  \n",
              "timestamp                                      \n",
              "1996-12-31   0   0   0   0   0   0   0      2  \n",
              "1997-12-31   0   0   0   0   0   0   0      1  \n",
              "1998-12-31   0   0   0   0   0   0   0      3  \n",
              "1999-12-31   0   0   0   0   0   0   0      3  \n",
              "2000-12-31   0   0   0   0   0   0   0      3  \n",
              "\n",
              "[5 rows x 25 columns]"
            ]
          },
          "metadata": {
            "tags": []
          },
          "execution_count": 48
        }
      ]
    },
    {
      "metadata": {
        "colab_type": "code",
        "id": "2AcmEeT9qXxw",
        "outputId": "b26883f3-2eeb-46f7-d13f-819929acbd89",
        "colab": {
          "base_uri": "https://localhost:8080/",
          "height": 807
        }
      },
      "cell_type": "code",
      "source": [
        "# We are selecting a single movie here, selecting \n",
        "# multiple movies will yield bad results because \n",
        "# of difference in data points.\n",
        "movie_history = with_genre[with_genre['movieId'] == 356]\n",
        "movie_history['Y'] = np.roll(movie_history['class'], -1)\n",
        "movie_history.pivot(columns='movieId', values='req').plot(kind='bar', title=\"Request Counts/day\")\n",
        "del movie_history['totalReq']\n",
        "movie_history.head()"
      ],
      "execution_count": 51,
      "outputs": [
        {
          "output_type": "stream",
          "text": [
            "/usr/local/lib/python3.6/dist-packages/ipykernel_launcher.py:2: SettingWithCopyWarning: \n",
            "A value is trying to be set on a copy of a slice from a DataFrame.\n",
            "Try using .loc[row_indexer,col_indexer] = value instead\n",
            "\n",
            "See the caveats in the documentation: http://pandas.pydata.org/pandas-docs/stable/indexing.html#indexing-view-versus-copy\n",
            "  \n"
          ],
          "name": "stderr"
        },
        {
          "output_type": "execute_result",
          "data": {
            "text/html": [
              "<div>\n",
              "<style scoped>\n",
              "    .dataframe tbody tr th:only-of-type {\n",
              "        vertical-align: middle;\n",
              "    }\n",
              "\n",
              "    .dataframe tbody tr th {\n",
              "        vertical-align: top;\n",
              "    }\n",
              "\n",
              "    .dataframe thead th {\n",
              "        text-align: right;\n",
              "    }\n",
              "</style>\n",
              "<table border=\"1\" class=\"dataframe\">\n",
              "  <thead>\n",
              "    <tr style=\"text-align: right;\">\n",
              "      <th></th>\n",
              "      <th>movieId</th>\n",
              "      <th>req</th>\n",
              "      <th>reqProb</th>\n",
              "      <th>0</th>\n",
              "      <th>1</th>\n",
              "      <th>2</th>\n",
              "      <th>3</th>\n",
              "      <th>4</th>\n",
              "      <th>5</th>\n",
              "      <th>6</th>\n",
              "      <th>...</th>\n",
              "      <th>12</th>\n",
              "      <th>13</th>\n",
              "      <th>14</th>\n",
              "      <th>15</th>\n",
              "      <th>16</th>\n",
              "      <th>17</th>\n",
              "      <th>18</th>\n",
              "      <th>19</th>\n",
              "      <th>class</th>\n",
              "      <th>Y</th>\n",
              "    </tr>\n",
              "    <tr>\n",
              "      <th>timestamp</th>\n",
              "      <th></th>\n",
              "      <th></th>\n",
              "      <th></th>\n",
              "      <th></th>\n",
              "      <th></th>\n",
              "      <th></th>\n",
              "      <th></th>\n",
              "      <th></th>\n",
              "      <th></th>\n",
              "      <th></th>\n",
              "      <th></th>\n",
              "      <th></th>\n",
              "      <th></th>\n",
              "      <th></th>\n",
              "      <th></th>\n",
              "      <th></th>\n",
              "      <th></th>\n",
              "      <th></th>\n",
              "      <th></th>\n",
              "      <th></th>\n",
              "      <th></th>\n",
              "    </tr>\n",
              "  </thead>\n",
              "  <tbody>\n",
              "    <tr>\n",
              "      <th>1996-12-31</th>\n",
              "      <td>356</td>\n",
              "      <td>69</td>\n",
              "      <td>0.011424</td>\n",
              "      <td>0</td>\n",
              "      <td>0</td>\n",
              "      <td>0</td>\n",
              "      <td>0</td>\n",
              "      <td>0</td>\n",
              "      <td>1</td>\n",
              "      <td>0</td>\n",
              "      <td>...</td>\n",
              "      <td>0</td>\n",
              "      <td>0</td>\n",
              "      <td>0</td>\n",
              "      <td>1</td>\n",
              "      <td>0</td>\n",
              "      <td>0</td>\n",
              "      <td>1</td>\n",
              "      <td>0</td>\n",
              "      <td>1</td>\n",
              "      <td>3</td>\n",
              "    </tr>\n",
              "    <tr>\n",
              "      <th>1997-12-31</th>\n",
              "      <td>356</td>\n",
              "      <td>5</td>\n",
              "      <td>0.002610</td>\n",
              "      <td>0</td>\n",
              "      <td>0</td>\n",
              "      <td>0</td>\n",
              "      <td>0</td>\n",
              "      <td>0</td>\n",
              "      <td>1</td>\n",
              "      <td>0</td>\n",
              "      <td>...</td>\n",
              "      <td>0</td>\n",
              "      <td>0</td>\n",
              "      <td>0</td>\n",
              "      <td>1</td>\n",
              "      <td>0</td>\n",
              "      <td>0</td>\n",
              "      <td>1</td>\n",
              "      <td>0</td>\n",
              "      <td>3</td>\n",
              "      <td>2</td>\n",
              "    </tr>\n",
              "    <tr>\n",
              "      <th>1998-12-31</th>\n",
              "      <td>356</td>\n",
              "      <td>3</td>\n",
              "      <td>0.005917</td>\n",
              "      <td>0</td>\n",
              "      <td>0</td>\n",
              "      <td>0</td>\n",
              "      <td>0</td>\n",
              "      <td>0</td>\n",
              "      <td>1</td>\n",
              "      <td>0</td>\n",
              "      <td>...</td>\n",
              "      <td>0</td>\n",
              "      <td>0</td>\n",
              "      <td>0</td>\n",
              "      <td>1</td>\n",
              "      <td>0</td>\n",
              "      <td>0</td>\n",
              "      <td>1</td>\n",
              "      <td>0</td>\n",
              "      <td>2</td>\n",
              "      <td>3</td>\n",
              "    </tr>\n",
              "    <tr>\n",
              "      <th>1999-12-31</th>\n",
              "      <td>356</td>\n",
              "      <td>10</td>\n",
              "      <td>0.004100</td>\n",
              "      <td>0</td>\n",
              "      <td>0</td>\n",
              "      <td>0</td>\n",
              "      <td>0</td>\n",
              "      <td>0</td>\n",
              "      <td>1</td>\n",
              "      <td>0</td>\n",
              "      <td>...</td>\n",
              "      <td>0</td>\n",
              "      <td>0</td>\n",
              "      <td>0</td>\n",
              "      <td>1</td>\n",
              "      <td>0</td>\n",
              "      <td>0</td>\n",
              "      <td>1</td>\n",
              "      <td>0</td>\n",
              "      <td>3</td>\n",
              "      <td>3</td>\n",
              "    </tr>\n",
              "    <tr>\n",
              "      <th>2000-12-31</th>\n",
              "      <td>356</td>\n",
              "      <td>23</td>\n",
              "      <td>0.002286</td>\n",
              "      <td>0</td>\n",
              "      <td>0</td>\n",
              "      <td>0</td>\n",
              "      <td>0</td>\n",
              "      <td>0</td>\n",
              "      <td>1</td>\n",
              "      <td>0</td>\n",
              "      <td>...</td>\n",
              "      <td>0</td>\n",
              "      <td>0</td>\n",
              "      <td>0</td>\n",
              "      <td>1</td>\n",
              "      <td>0</td>\n",
              "      <td>0</td>\n",
              "      <td>1</td>\n",
              "      <td>0</td>\n",
              "      <td>3</td>\n",
              "      <td>3</td>\n",
              "    </tr>\n",
              "  </tbody>\n",
              "</table>\n",
              "<p>5 rows × 25 columns</p>\n",
              "</div>"
            ],
            "text/plain": [
              "            movieId  req   reqProb  0  1  2  3  4  5  6 ...  12  13  14  15  \\\n",
              "timestamp                                               ...                   \n",
              "1996-12-31      356   69  0.011424  0  0  0  0  0  1  0 ...   0   0   0   1   \n",
              "1997-12-31      356    5  0.002610  0  0  0  0  0  1  0 ...   0   0   0   1   \n",
              "1998-12-31      356    3  0.005917  0  0  0  0  0  1  0 ...   0   0   0   1   \n",
              "1999-12-31      356   10  0.004100  0  0  0  0  0  1  0 ...   0   0   0   1   \n",
              "2000-12-31      356   23  0.002286  0  0  0  0  0  1  0 ...   0   0   0   1   \n",
              "\n",
              "            16  17  18  19  class  Y  \n",
              "timestamp                             \n",
              "1996-12-31   0   0   1   0      1  3  \n",
              "1997-12-31   0   0   1   0      3  2  \n",
              "1998-12-31   0   0   1   0      2  3  \n",
              "1999-12-31   0   0   1   0      3  3  \n",
              "2000-12-31   0   0   1   0      3  3  \n",
              "\n",
              "[5 rows x 25 columns]"
            ]
          },
          "metadata": {
            "tags": []
          },
          "execution_count": 51
        },
        {
          "output_type": "display_data",
          "data": {
            "image/png": "[encoded data removed]",
            "text/plain": [
              "<Figure size 576x396 with 1 Axes>"
            ]
          },
          "metadata": {
            "tags": []
          }
        }
      ]
    },
    {
      "metadata": {
        "colab_type": "text",
        "id": "yvQlXTHUxIYG"
      },
      "cell_type": "markdown",
      "source": [
        "# Crunching numbers!"
      ]
    },
    {
      "metadata": {
        "colab_type": "code",
        "id": "JF4jlzy7vt03",
        "outputId": "9213fab6-5c87-49df-af84-d04b526fbbd9",
        "colab": {
          "base_uri": "https://localhost:8080/",
          "height": 34
        }
      },
      "cell_type": "code",
      "source": [
        "from sklearn.preprocessing import OneHotEncoder, MinMaxScaler\n",
        "from sklearn.compose import ColumnTransformer, make_column_transformer\n",
        "# One-hot-encode classes\n",
        "preprocess = make_column_transformer([OneHotEncoder(categories=[np.array([1,2,3,4])]), ['class', 'Y']])\n",
        "values = movie_history.values\n",
        "#print(values)\n",
        "one_hot_encoded = np.concatenate((list(map(lambda x:np.eye(4)[x-1], values[:,23].astype('int')) ),\n",
        "               list(map(lambda x:np.eye(4)[x-1], values[:,24].astype('int')))), axis=1)\n",
        "values = np.concatenate((movie_history.values[:,:23], one_hot_encoded), axis=1)\n",
        "\n",
        "# Scale \n",
        "scaler = MinMaxScaler()\n",
        "scaled_values = scaler.fit_transform(values)\n",
        "scaled_values.shape\n"
      ],
      "execution_count": 17,
      "outputs": [
        {
          "output_type": "execute_result",
          "data": {
            "text/plain": [
              "(23, 31)"
            ]
          },
          "metadata": {
            "tags": []
          },
          "execution_count": 17
        }
      ]
    },
    {
      "metadata": {
        "colab_type": "text",
        "id": "HuxZJ9or6zfU"
      },
      "cell_type": "markdown",
      "source": [
        "## Make X and Y"
      ]
    },
    {
      "metadata": {
        "colab_type": "code",
        "id": "Na6Poqpc80oy",
        "outputId": "fb0c68c4-ac82-424c-eb8b-c417e017298b",
        "colab": {
          "base_uri": "https://localhost:8080/",
          "height": 51
        }
      },
      "cell_type": "code",
      "source": [
        "n_input_cols = 27\n",
        "n_output_cols = 4\n",
        "X = scaled_values[:,:n_input_cols]\n",
        "y = scaled_values[:,n_input_cols:]\n",
        "# reshape\n",
        "X = X.reshape(X.shape[0], 1, n_input_cols)\n",
        "y = y.reshape(y.shape[0], 1, n_output_cols)\n",
        "print(X.shape)\n",
        "print(y.shape)"
      ],
      "execution_count": 52,
      "outputs": [
        {
          "output_type": "stream",
          "text": [
            "(23, 1, 27)\n",
            "(23, 1, 4)\n"
          ],
          "name": "stdout"
        }
      ]
    },
    {
      "metadata": {
        "colab_type": "text",
        "id": "Cn6Ty1x_8-RJ"
      },
      "cell_type": "markdown",
      "source": [
        "## train_test_split"
      ]
    },
    {
      "metadata": {
        "colab_type": "code",
        "id": "dex1WVxW9Nnb",
        "colab": {}
      },
      "cell_type": "code",
      "source": [
        "from sklearn.model_selection import train_test_split\n",
        "X_train, X_test, y_train, y_test = train_test_split(X, y, test_size=0.33, shuffle=False)"
      ],
      "execution_count": 0,
      "outputs": []
    },
    {
      "metadata": {
        "colab_type": "text",
        "id": "gZIh47O_9Xe6"
      },
      "cell_type": "markdown",
      "source": [
        "# Make Model"
      ]
    },
    {
      "metadata": {
        "colab_type": "code",
        "id": "eZ6uF_wo9f4a",
        "outputId": "e9b88e6d-42a2-4657-951d-009e8199da1d",
        "colab": {
          "base_uri": "https://localhost:8080/",
          "height": 305
        }
      },
      "cell_type": "code",
      "source": [
        "from keras.models import Sequential\n",
        "from keras.layers import Dropout, LSTM, BatchNormalization, TimeDistributed, Dense, Activation\n",
        "model = Sequential()\n",
        "model.add(BatchNormalization(input_shape=(1,X_train.shape[2])))\n",
        "model.add(LSTM(4, return_sequences=True))\n",
        "model.add(LSTM(1, dropout=0.2, return_sequences=True))\n",
        "model.add(TimeDistributed(Dense(y_train.shape[2])))\n",
        "model.add(Activation('softmax'))\n",
        "model.compile(optimizer='adam', loss='categorical_crossentropy', metrics=['accuracy'])\n",
        "model.summary()"
      ],
      "execution_count": 55,
      "outputs": [
        {
          "output_type": "stream",
          "text": [
            "_________________________________________________________________\n",
            "Layer (type)                 Output Shape              Param #   \n",
            "=================================================================\n",
            "batch_normalization_3 (Batch (None, 1, 27)             108       \n",
            "_________________________________________________________________\n",
            "lstm_5 (LSTM)                (None, 1, 4)              512       \n",
            "_________________________________________________________________\n",
            "lstm_6 (LSTM)                (None, 1, 1)              24        \n",
            "_________________________________________________________________\n",
            "time_distributed_3 (TimeDist (None, 1, 4)              8         \n",
            "_________________________________________________________________\n",
            "activation_3 (Activation)    (None, 1, 4)              0         \n",
            "=================================================================\n",
            "Total params: 652\n",
            "Trainable params: 598\n",
            "Non-trainable params: 54\n",
            "_________________________________________________________________\n"
          ],
          "name": "stdout"
        }
      ]
    },
    {
      "metadata": {
        "colab_type": "code",
        "id": "6sjFOYBKEY1Z",
        "outputId": "6993a3de-b3ed-493d-e6c7-eb4f2e46c132",
        "colab": {
          "base_uri": "https://localhost:8080/",
          "height": 355
        }
      },
      "cell_type": "code",
      "source": [
        "history = model.fit(X_train, y_train, batch_size=10, epochs=10)"
      ],
      "execution_count": 56,
      "outputs": [
        {
          "output_type": "stream",
          "text": [
            "Epoch 1/10\n",
            "15/15 [==============================] - 3s 175ms/step - loss: 1.3856 - acc: 0.0667\n",
            "Epoch 2/10\n",
            "15/15 [==============================] - 0s 1ms/step - loss: 1.3830 - acc: 0.3333\n",
            "Epoch 3/10\n",
            "15/15 [==============================] - 0s 1ms/step - loss: 1.3809 - acc: 0.4000\n",
            "Epoch 4/10\n",
            "15/15 [==============================] - 0s 1ms/step - loss: 1.3781 - acc: 0.7333\n",
            "Epoch 5/10\n",
            "15/15 [==============================] - 0s 1ms/step - loss: 1.3750 - acc: 0.7333\n",
            "Epoch 6/10\n",
            "15/15 [==============================] - 0s 1ms/step - loss: 1.3720 - acc: 0.8667\n",
            "Epoch 7/10\n",
            "15/15 [==============================] - 0s 1ms/step - loss: 1.3693 - acc: 0.8667\n",
            "Epoch 8/10\n",
            "15/15 [==============================] - 0s 1ms/step - loss: 1.3665 - acc: 0.8667\n",
            "Epoch 9/10\n",
            "15/15 [==============================] - 0s 1ms/step - loss: 1.3638 - acc: 0.9333\n",
            "Epoch 10/10\n",
            "15/15 [==============================] - 0s 1ms/step - loss: 1.3606 - acc: 0.9333\n"
          ],
          "name": "stdout"
        }
      ]
    },
    {
      "metadata": {
        "colab_type": "code",
        "id": "dktSh9mMH92G",
        "outputId": "3869a10e-1029-4c36-8537-10222096697a",
        "colab": {
          "base_uri": "https://localhost:8080/",
          "height": 68
        }
      },
      "cell_type": "code",
      "source": [
        "score, acc = model.evaluate(X_test, y_test, batch_size=100)\n",
        "print('Test score:', score)\n",
        "print('Test accuracy:', acc)"
      ],
      "execution_count": 57,
      "outputs": [
        {
          "output_type": "stream",
          "text": [
            "\r8/8 [==============================] - 1s 88ms/step\n",
            "Test score: 1.3634483814239502\n",
            "Test accuracy: 0.875\n"
          ],
          "name": "stdout"
        }
      ]
    },
    {
      "metadata": {
        "id": "97QcjJQhLdSX",
        "colab_type": "code",
        "colab": {
          "base_uri": "https://localhost:8080/",
          "height": 34
        },
        "outputId": "2a7f6668-8e61-41a1-e64e-170f3060dade"
      },
      "cell_type": "code",
      "source": [
        "def predict(input_array):\n",
        "    dat = np.concatenate((input_array, [[0]*n_output_cols]*input_array.shape[0]), axis=1)\n",
        "    dat = scaler.transform(dat)[:,:n_input_cols]\n",
        "    dat = dat.reshape(dat.shape[0], 1, n_input_cols)\n",
        "    predicted = model.predict(dat)\n",
        "\n",
        "    predicted = predicted.reshape(1,n_output_cols)\n",
        "    x = np.concatenate(([[0]*n_input_cols]*input_array.shape[0], predicted), axis=1)\n",
        "    return scaler.inverse_transform(x)[:,n_input_cols:]\n",
        "\n",
        "predict(np.array([\n",
        "    [356,56,0.156] + list(mlb.transform([['Comedy', 'Drama', 'Romance', 'War']])[0]) + [1,0,0,0]\n",
        "]))"
      ],
      "execution_count": 92,
      "outputs": [
        {
          "output_type": "execute_result",
          "data": {
            "text/plain": [
              "array([[0.26705664, 0.24057522, 0.25555053, 0.23681757]])"
            ]
          },
          "metadata": {
            "tags": []
          },
          "execution_count": 92
        }
      ]
    },
    {
      "metadata": {
        "id": "tQJDimaXW9Qn",
        "colab_type": "code",
        "colab": {}
      },
      "cell_type": "code",
      "source": [
        ""
      ],
      "execution_count": 0,
      "outputs": []
    }
  ]
}