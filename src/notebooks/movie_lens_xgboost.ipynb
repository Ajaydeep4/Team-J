{
  "nbformat": 4,
  "nbformat_minor": 0,
  "metadata": {
    "colab": {
      "name": "movie_lens-genre.ipynb",
      "version": "0.3.2",
      "provenance": [],
      "collapsed_sections": []
    },
    "kernelspec": {
      "display_name": "Python 3",
      "language": "python",
      "name": "python3"
    }
  },
  "cells": [
    {
      "metadata": {
        "colab_type": "text",
        "id": "6g9lt3hA-NOR"
      },
      "cell_type": "markdown",
      "source": [
        "# Import libraries"
      ]
    },
    {
      "metadata": {
        "colab_type": "code",
        "id": "gk-MroIZ-NOW",
        "colab": {}
      },
      "cell_type": "code",
      "source": [
        "import pandas as pd\n",
        "import matplotlib.pyplot as plt\n",
        "import datetime\n",
        "import numpy as np\n",
        "np.random.seed(13)"
      ],
      "execution_count": 0,
      "outputs": []
    },
    {
      "metadata": {
        "colab_type": "code",
        "id": "RFt4PlzEFMXe",
        "outputId": "a8f1673d-e522-48e9-ce79-695af465833a",
        "colab": {
          "base_uri": "https://localhost:8080/",
          "height": 321
        }
      },
      "cell_type": "code",
      "source": [
        "# Download data in google colab, no need to run this in your laptops\n",
        "\n",
        "# Just in case...\n",
        "!rm -rf ml-latest-small*\n",
        "!wget http://files.grouplens.org/datasets/movielens/ml-latest-small.zip\n",
        "!unzip ml-latest-small.zip"
      ],
      "execution_count": 0,
      "outputs": [
        {
          "output_type": "stream",
          "text": [
            "--2019-04-06 05:44:20--  http://files.grouplens.org/datasets/movielens/ml-latest-small.zip\n",
            "Resolving files.grouplens.org (files.grouplens.org)... 128.101.34.235\n",
            "Connecting to files.grouplens.org (files.grouplens.org)|128.101.34.235|:80... connected.\n",
            "HTTP request sent, awaiting response... 200 OK\n",
            "Length: 978202 (955K) [application/zip]\n",
            "Saving to: ‘ml-latest-small.zip’\n",
            "\n",
            "\rml-latest-small.zip   0%[                    ]       0  --.-KB/s               \rml-latest-small.zip  23%[===>                ] 219.82K  1.07MB/s               \rml-latest-small.zip 100%[===================>] 955.28K  3.10MB/s    in 0.3s    \n",
            "\n",
            "2019-04-06 05:44:20 (3.10 MB/s) - ‘ml-latest-small.zip’ saved [978202/978202]\n",
            "\n",
            "Archive:  ml-latest-small.zip\n",
            "   creating: ml-latest-small/\n",
            "  inflating: ml-latest-small/links.csv  \n",
            "  inflating: ml-latest-small/tags.csv  \n",
            "  inflating: ml-latest-small/ratings.csv  \n",
            "  inflating: ml-latest-small/README.txt  \n",
            "  inflating: ml-latest-small/movies.csv  \n"
          ],
          "name": "stdout"
        }
      ]
    },
    {
      "metadata": {
        "colab_type": "text",
        "id": "8dBBbscc-NOn"
      },
      "cell_type": "markdown",
      "source": [
        "# Load data"
      ]
    },
    {
      "metadata": {
        "colab_type": "code",
        "id": "22DhXKzx-NOq",
        "colab": {}
      },
      "cell_type": "code",
      "source": [
        "rating_data = pd.read_csv(\"ml-latest-small/ratings.csv\", index_col='timestamp', parse_dates=['timestamp'], date_parser = lambda x: datetime.datetime.fromtimestamp(int(x)))\n",
        "movie_data = pd.read_csv(\"ml-latest-small/movies.csv\", index_col='movieId')"
      ],
      "execution_count": 0,
      "outputs": []
    },
    {
      "metadata": {
        "colab_type": "text",
        "id": "MLlbV-7k-NO0"
      },
      "cell_type": "markdown",
      "source": [
        "## Process data\n",
        "**Assumption**: one rating = one request"
      ]
    },
    {
      "metadata": {
        "colab_type": "code",
        "id": "VM1C40EE-NO2",
        "outputId": "71bec5f4-0a5e-4e81-a9cf-8a220ce870d0",
        "colab": {
          "base_uri": "https://localhost:8080/",
          "height": 233
        }
      },
      "cell_type": "code",
      "source": [
        "del rating_data['userId']\n",
        "rating_data.head()"
      ],
      "execution_count": 0,
      "outputs": [
        {
          "output_type": "execute_result",
          "data": {
            "text/html": [
              "<div>\n",
              "<style scoped>\n",
              "    .dataframe tbody tr th:only-of-type {\n",
              "        vertical-align: middle;\n",
              "    }\n",
              "\n",
              "    .dataframe tbody tr th {\n",
              "        vertical-align: top;\n",
              "    }\n",
              "\n",
              "    .dataframe thead th {\n",
              "        text-align: right;\n",
              "    }\n",
              "</style>\n",
              "<table border=\"1\" class=\"dataframe\">\n",
              "  <thead>\n",
              "    <tr style=\"text-align: right;\">\n",
              "      <th></th>\n",
              "      <th>movieId</th>\n",
              "      <th>rating</th>\n",
              "    </tr>\n",
              "    <tr>\n",
              "      <th>timestamp</th>\n",
              "      <th></th>\n",
              "      <th></th>\n",
              "    </tr>\n",
              "  </thead>\n",
              "  <tbody>\n",
              "    <tr>\n",
              "      <th>2000-07-30 18:45:03</th>\n",
              "      <td>1</td>\n",
              "      <td>4.0</td>\n",
              "    </tr>\n",
              "    <tr>\n",
              "      <th>2000-07-30 18:20:47</th>\n",
              "      <td>3</td>\n",
              "      <td>4.0</td>\n",
              "    </tr>\n",
              "    <tr>\n",
              "      <th>2000-07-30 18:37:04</th>\n",
              "      <td>6</td>\n",
              "      <td>4.0</td>\n",
              "    </tr>\n",
              "    <tr>\n",
              "      <th>2000-07-30 19:03:35</th>\n",
              "      <td>47</td>\n",
              "      <td>5.0</td>\n",
              "    </tr>\n",
              "    <tr>\n",
              "      <th>2000-07-30 18:48:51</th>\n",
              "      <td>50</td>\n",
              "      <td>5.0</td>\n",
              "    </tr>\n",
              "  </tbody>\n",
              "</table>\n",
              "</div>"
            ],
            "text/plain": [
              "                     movieId  rating\n",
              "timestamp                           \n",
              "2000-07-30 18:45:03        1     4.0\n",
              "2000-07-30 18:20:47        3     4.0\n",
              "2000-07-30 18:37:04        6     4.0\n",
              "2000-07-30 19:03:35       47     5.0\n",
              "2000-07-30 18:48:51       50     5.0"
            ]
          },
          "metadata": {
            "tags": []
          },
          "execution_count": 27
        }
      ]
    },
    {
      "metadata": {
        "id": "np_DyyDkOYoK",
        "colab_type": "code",
        "outputId": "e7ca1261-c22f-4dae-f162-63180511036a",
        "colab": {
          "base_uri": "https://localhost:8080/",
          "height": 233
        }
      },
      "cell_type": "code",
      "source": [
        "del movie_data['title']\n",
        "movie_data.head()"
      ],
      "execution_count": 0,
      "outputs": [
        {
          "output_type": "execute_result",
          "data": {
            "text/html": [
              "<div>\n",
              "<style scoped>\n",
              "    .dataframe tbody tr th:only-of-type {\n",
              "        vertical-align: middle;\n",
              "    }\n",
              "\n",
              "    .dataframe tbody tr th {\n",
              "        vertical-align: top;\n",
              "    }\n",
              "\n",
              "    .dataframe thead th {\n",
              "        text-align: right;\n",
              "    }\n",
              "</style>\n",
              "<table border=\"1\" class=\"dataframe\">\n",
              "  <thead>\n",
              "    <tr style=\"text-align: right;\">\n",
              "      <th></th>\n",
              "      <th>genres</th>\n",
              "    </tr>\n",
              "    <tr>\n",
              "      <th>movieId</th>\n",
              "      <th></th>\n",
              "    </tr>\n",
              "  </thead>\n",
              "  <tbody>\n",
              "    <tr>\n",
              "      <th>1</th>\n",
              "      <td>Adventure|Animation|Children|Comedy|Fantasy</td>\n",
              "    </tr>\n",
              "    <tr>\n",
              "      <th>2</th>\n",
              "      <td>Adventure|Children|Fantasy</td>\n",
              "    </tr>\n",
              "    <tr>\n",
              "      <th>3</th>\n",
              "      <td>Comedy|Romance</td>\n",
              "    </tr>\n",
              "    <tr>\n",
              "      <th>4</th>\n",
              "      <td>Comedy|Drama|Romance</td>\n",
              "    </tr>\n",
              "    <tr>\n",
              "      <th>5</th>\n",
              "      <td>Comedy</td>\n",
              "    </tr>\n",
              "  </tbody>\n",
              "</table>\n",
              "</div>"
            ],
            "text/plain": [
              "                                              genres\n",
              "movieId                                             \n",
              "1        Adventure|Animation|Children|Comedy|Fantasy\n",
              "2                         Adventure|Children|Fantasy\n",
              "3                                     Comedy|Romance\n",
              "4                               Comedy|Drama|Romance\n",
              "5                                             Comedy"
            ]
          },
          "metadata": {
            "tags": []
          },
          "execution_count": 28
        }
      ]
    },
    {
      "metadata": {
        "colab_type": "code",
        "id": "sZfGLCE9-NPE",
        "colab": {}
      },
      "cell_type": "code",
      "source": [
        "def assign_class(n_req, total_req):\n",
        "    \"\"\"\n",
        "    assign class based on the no. of request received\n",
        "    \"\"\"\n",
        "    \n",
        "    # top 1% of the day are Class 1\n",
        "    if n_req > 0.01 * total_req:\n",
        "        return 1\n",
        "    # top 0.5% of the day are Class 2\n",
        "    elif n_req > 0.005 * total_req:\n",
        "        return 2\n",
        "    # top 0.01% of the day are Class 3\n",
        "    elif n_req > 0.001 * total_req:\n",
        "        return 3\n",
        "    # rest are Class 4\n",
        "    else:\n",
        "        return 4"
      ],
      "execution_count": 0,
      "outputs": []
    },
    {
      "metadata": {
        "colab_type": "code",
        "id": "jSa7_Oa8-NPK",
        "colab": {}
      },
      "cell_type": "code",
      "source": [
        "def group_movies(daywise_group):\n",
        "    \"\"\"\n",
        "    add request probablity to input pandas DataFrame\n",
        "    \n",
        "    :param daywise_group: a DataFrame containing movieId and corresponding ratings for a single day.\n",
        "    \"\"\"\n",
        "\n",
        "    df = daywise_group.groupby(\"movieId\").count()   \n",
        "    # `rating` column now holds the no. of requests, so rename the column to avoid confusion\n",
        "    df.rename(columns={\"rating\":\"req\"}, inplace=True)\n",
        "    df['totalReq'] = daywise_group.shape[0]\n",
        "    # request probablity for that day\n",
        "    df['reqProb'] = daywise_group.groupby(\"movieId\").count()['rating'] / df['totalReq']\n",
        "    return df"
      ],
      "execution_count": 0,
      "outputs": []
    },
    {
      "metadata": {
        "colab_type": "code",
        "id": "mfuWmjK6-NPS",
        "outputId": "693850e7-5dc4-4fcf-d1ae-ef2ffb6d664b",
        "colab": {
          "base_uri": "https://localhost:8080/",
          "height": 233
        }
      },
      "cell_type": "code",
      "source": [
        "grouped_by_movie = rating_data.resample(\"1y\").apply(group_movies)\n",
        "# grouped_by_movie['class'] = grouped_by_movie[['req', 'totalReq']].apply(lambda x:assign_class(x['req'], x['totalReq']), axis=1)\n",
        "grouped_by_movie.reset_index(level='movieId', inplace=True)\n",
        "grouped_by_movie.head()"
      ],
      "execution_count": 113,
      "outputs": [
        {
          "output_type": "execute_result",
          "data": {
            "text/html": [
              "<div>\n",
              "<style scoped>\n",
              "    .dataframe tbody tr th:only-of-type {\n",
              "        vertical-align: middle;\n",
              "    }\n",
              "\n",
              "    .dataframe tbody tr th {\n",
              "        vertical-align: top;\n",
              "    }\n",
              "\n",
              "    .dataframe thead th {\n",
              "        text-align: right;\n",
              "    }\n",
              "</style>\n",
              "<table border=\"1\" class=\"dataframe\">\n",
              "  <thead>\n",
              "    <tr style=\"text-align: right;\">\n",
              "      <th></th>\n",
              "      <th>movieId</th>\n",
              "      <th>req</th>\n",
              "      <th>totalReq</th>\n",
              "      <th>reqProb</th>\n",
              "    </tr>\n",
              "    <tr>\n",
              "      <th>timestamp</th>\n",
              "      <th></th>\n",
              "      <th></th>\n",
              "      <th></th>\n",
              "      <th></th>\n",
              "    </tr>\n",
              "  </thead>\n",
              "  <tbody>\n",
              "    <tr>\n",
              "      <th>1996-12-31</th>\n",
              "      <td>1</td>\n",
              "      <td>33</td>\n",
              "      <td>6040</td>\n",
              "      <td>0.005464</td>\n",
              "    </tr>\n",
              "    <tr>\n",
              "      <th>1996-12-31</th>\n",
              "      <td>2</td>\n",
              "      <td>26</td>\n",
              "      <td>6040</td>\n",
              "      <td>0.004305</td>\n",
              "    </tr>\n",
              "    <tr>\n",
              "      <th>1996-12-31</th>\n",
              "      <td>3</td>\n",
              "      <td>12</td>\n",
              "      <td>6040</td>\n",
              "      <td>0.001987</td>\n",
              "    </tr>\n",
              "    <tr>\n",
              "      <th>1996-12-31</th>\n",
              "      <td>4</td>\n",
              "      <td>5</td>\n",
              "      <td>6040</td>\n",
              "      <td>0.000828</td>\n",
              "    </tr>\n",
              "    <tr>\n",
              "      <th>1996-12-31</th>\n",
              "      <td>5</td>\n",
              "      <td>18</td>\n",
              "      <td>6040</td>\n",
              "      <td>0.002980</td>\n",
              "    </tr>\n",
              "  </tbody>\n",
              "</table>\n",
              "</div>"
            ],
            "text/plain": [
              "            movieId  req  totalReq   reqProb\n",
              "timestamp                                   \n",
              "1996-12-31        1   33      6040  0.005464\n",
              "1996-12-31        2   26      6040  0.004305\n",
              "1996-12-31        3   12      6040  0.001987\n",
              "1996-12-31        4    5      6040  0.000828\n",
              "1996-12-31        5   18      6040  0.002980"
            ]
          },
          "metadata": {
            "tags": []
          },
          "execution_count": 113
        }
      ]
    },
    {
      "metadata": {
        "id": "C8-Oo6sUUfro",
        "colab_type": "code",
        "outputId": "bc99350c-e215-4fb5-e803-0888fba0532d",
        "colab": {
          "base_uri": "https://localhost:8080/",
          "height": 300
        }
      },
      "cell_type": "code",
      "source": [
        "grouped_by_movie.pivot(columns='movieId', values='req').fillna(0).iloc[:100,:5].plot()"
      ],
      "execution_count": 114,
      "outputs": [
        {
          "output_type": "execute_result",
          "data": {
            "text/plain": [
              "<matplotlib.axes._subplots.AxesSubplot at 0x7f02babd59e8>"
            ]
          },
          "metadata": {
            "tags": []
          },
          "execution_count": 114
        },
        {
          "output_type": "display_data",
          "data": {
            "image/png": "[encoded data removed]",
            "text/plain": [
              "<Figure size 432x288 with 1 Axes>"
            ]
          },
          "metadata": {
            "tags": []
          }
        }
      ]
    },
    {
      "metadata": {
        "id": "QGSxBNfPO_Ia",
        "colab_type": "text"
      },
      "cell_type": "markdown",
      "source": [
        "### Add genres"
      ]
    },
    {
      "metadata": {
        "id": "vI-9MS-HO9C_",
        "colab_type": "code",
        "outputId": "484456f9-d3ea-4cec-ac4d-7fbad8cfaac1",
        "colab": {
          "base_uri": "https://localhost:8080/",
          "height": 233
        }
      },
      "cell_type": "code",
      "source": [
        "grouped_by_movie = pd.merge(grouped_by_movie.reset_index(), movie_data.reset_index())\n",
        "grouped_by_movie.set_index('timestamp', inplace = True)\n",
        "grouped_by_movie.head()"
      ],
      "execution_count": 115,
      "outputs": [
        {
          "output_type": "execute_result",
          "data": {
            "text/html": [
              "<div>\n",
              "<style scoped>\n",
              "    .dataframe tbody tr th:only-of-type {\n",
              "        vertical-align: middle;\n",
              "    }\n",
              "\n",
              "    .dataframe tbody tr th {\n",
              "        vertical-align: top;\n",
              "    }\n",
              "\n",
              "    .dataframe thead th {\n",
              "        text-align: right;\n",
              "    }\n",
              "</style>\n",
              "<table border=\"1\" class=\"dataframe\">\n",
              "  <thead>\n",
              "    <tr style=\"text-align: right;\">\n",
              "      <th></th>\n",
              "      <th>movieId</th>\n",
              "      <th>req</th>\n",
              "      <th>totalReq</th>\n",
              "      <th>reqProb</th>\n",
              "      <th>genres</th>\n",
              "    </tr>\n",
              "    <tr>\n",
              "      <th>timestamp</th>\n",
              "      <th></th>\n",
              "      <th></th>\n",
              "      <th></th>\n",
              "      <th></th>\n",
              "      <th></th>\n",
              "    </tr>\n",
              "  </thead>\n",
              "  <tbody>\n",
              "    <tr>\n",
              "      <th>1996-12-31</th>\n",
              "      <td>1</td>\n",
              "      <td>33</td>\n",
              "      <td>6040</td>\n",
              "      <td>0.005464</td>\n",
              "      <td>Adventure|Animation|Children|Comedy|Fantasy</td>\n",
              "    </tr>\n",
              "    <tr>\n",
              "      <th>1997-12-31</th>\n",
              "      <td>1</td>\n",
              "      <td>22</td>\n",
              "      <td>1916</td>\n",
              "      <td>0.011482</td>\n",
              "      <td>Adventure|Animation|Children|Comedy|Fantasy</td>\n",
              "    </tr>\n",
              "    <tr>\n",
              "      <th>1998-12-31</th>\n",
              "      <td>1</td>\n",
              "      <td>1</td>\n",
              "      <td>507</td>\n",
              "      <td>0.001972</td>\n",
              "      <td>Adventure|Animation|Children|Comedy|Fantasy</td>\n",
              "    </tr>\n",
              "    <tr>\n",
              "      <th>1999-12-31</th>\n",
              "      <td>1</td>\n",
              "      <td>9</td>\n",
              "      <td>2439</td>\n",
              "      <td>0.003690</td>\n",
              "      <td>Adventure|Animation|Children|Comedy|Fantasy</td>\n",
              "    </tr>\n",
              "    <tr>\n",
              "      <th>2000-12-31</th>\n",
              "      <td>1</td>\n",
              "      <td>18</td>\n",
              "      <td>10061</td>\n",
              "      <td>0.001789</td>\n",
              "      <td>Adventure|Animation|Children|Comedy|Fantasy</td>\n",
              "    </tr>\n",
              "  </tbody>\n",
              "</table>\n",
              "</div>"
            ],
            "text/plain": [
              "            movieId  req  totalReq   reqProb  \\\n",
              "timestamp                                      \n",
              "1996-12-31        1   33      6040  0.005464   \n",
              "1997-12-31        1   22      1916  0.011482   \n",
              "1998-12-31        1    1       507  0.001972   \n",
              "1999-12-31        1    9      2439  0.003690   \n",
              "2000-12-31        1   18     10061  0.001789   \n",
              "\n",
              "                                                 genres  \n",
              "timestamp                                                \n",
              "1996-12-31  Adventure|Animation|Children|Comedy|Fantasy  \n",
              "1997-12-31  Adventure|Animation|Children|Comedy|Fantasy  \n",
              "1998-12-31  Adventure|Animation|Children|Comedy|Fantasy  \n",
              "1999-12-31  Adventure|Animation|Children|Comedy|Fantasy  \n",
              "2000-12-31  Adventure|Animation|Children|Comedy|Fantasy  "
            ]
          },
          "metadata": {
            "tags": []
          },
          "execution_count": 115
        }
      ]
    },
    {
      "metadata": {
        "id": "CjMOU2uIeXef",
        "colab_type": "code",
        "outputId": "73400a12-a36f-478d-f77b-0c1bb728566b",
        "colab": {
          "base_uri": "https://localhost:8080/",
          "height": 262
        }
      },
      "cell_type": "code",
      "source": [
        "# Convert genres(str) to a binary matrix\n",
        "# because string are good for humans but\n",
        "# machines like numbers!\n",
        "from sklearn.preprocessing import MultiLabelBinarizer\n",
        "splitted = grouped_by_movie['genres'].apply(lambda x:x.split(\"|\"))\n",
        "mlb = MultiLabelBinarizer()\n",
        "genre_matrix = mlb.fit_transform(splitted)\n",
        "\n",
        "genre_df = pd.DataFrame(genre_matrix)\n",
        "\n",
        "with_genre = pd.merge(grouped_by_movie.reset_index(), genre_df.reset_index(), left_index=True, right_index=True)\n",
        "del with_genre['genres'], with_genre['index']\n",
        "\n",
        "# shift class column to the end\n",
        "with_genre = with_genre[ list(filter(lambda x: x!='req', with_genre.columns)) + ['req']]\n",
        "\n",
        "with_genre.set_index('timestamp', inplace = True)\n",
        "with_genre.head()"
      ],
      "execution_count": 116,
      "outputs": [
        {
          "output_type": "execute_result",
          "data": {
            "text/html": [
              "<div>\n",
              "<style scoped>\n",
              "    .dataframe tbody tr th:only-of-type {\n",
              "        vertical-align: middle;\n",
              "    }\n",
              "\n",
              "    .dataframe tbody tr th {\n",
              "        vertical-align: top;\n",
              "    }\n",
              "\n",
              "    .dataframe thead th {\n",
              "        text-align: right;\n",
              "    }\n",
              "</style>\n",
              "<table border=\"1\" class=\"dataframe\">\n",
              "  <thead>\n",
              "    <tr style=\"text-align: right;\">\n",
              "      <th></th>\n",
              "      <th>movieId</th>\n",
              "      <th>totalReq</th>\n",
              "      <th>reqProb</th>\n",
              "      <th>0</th>\n",
              "      <th>1</th>\n",
              "      <th>2</th>\n",
              "      <th>3</th>\n",
              "      <th>4</th>\n",
              "      <th>5</th>\n",
              "      <th>6</th>\n",
              "      <th>...</th>\n",
              "      <th>11</th>\n",
              "      <th>12</th>\n",
              "      <th>13</th>\n",
              "      <th>14</th>\n",
              "      <th>15</th>\n",
              "      <th>16</th>\n",
              "      <th>17</th>\n",
              "      <th>18</th>\n",
              "      <th>19</th>\n",
              "      <th>req</th>\n",
              "    </tr>\n",
              "    <tr>\n",
              "      <th>timestamp</th>\n",
              "      <th></th>\n",
              "      <th></th>\n",
              "      <th></th>\n",
              "      <th></th>\n",
              "      <th></th>\n",
              "      <th></th>\n",
              "      <th></th>\n",
              "      <th></th>\n",
              "      <th></th>\n",
              "      <th></th>\n",
              "      <th></th>\n",
              "      <th></th>\n",
              "      <th></th>\n",
              "      <th></th>\n",
              "      <th></th>\n",
              "      <th></th>\n",
              "      <th></th>\n",
              "      <th></th>\n",
              "      <th></th>\n",
              "      <th></th>\n",
              "      <th></th>\n",
              "    </tr>\n",
              "  </thead>\n",
              "  <tbody>\n",
              "    <tr>\n",
              "      <th>1996-12-31</th>\n",
              "      <td>1</td>\n",
              "      <td>6040</td>\n",
              "      <td>0.005464</td>\n",
              "      <td>0</td>\n",
              "      <td>0</td>\n",
              "      <td>1</td>\n",
              "      <td>1</td>\n",
              "      <td>1</td>\n",
              "      <td>1</td>\n",
              "      <td>0</td>\n",
              "      <td>...</td>\n",
              "      <td>0</td>\n",
              "      <td>0</td>\n",
              "      <td>0</td>\n",
              "      <td>0</td>\n",
              "      <td>0</td>\n",
              "      <td>0</td>\n",
              "      <td>0</td>\n",
              "      <td>0</td>\n",
              "      <td>0</td>\n",
              "      <td>33</td>\n",
              "    </tr>\n",
              "    <tr>\n",
              "      <th>1997-12-31</th>\n",
              "      <td>1</td>\n",
              "      <td>1916</td>\n",
              "      <td>0.011482</td>\n",
              "      <td>0</td>\n",
              "      <td>0</td>\n",
              "      <td>1</td>\n",
              "      <td>1</td>\n",
              "      <td>1</td>\n",
              "      <td>1</td>\n",
              "      <td>0</td>\n",
              "      <td>...</td>\n",
              "      <td>0</td>\n",
              "      <td>0</td>\n",
              "      <td>0</td>\n",
              "      <td>0</td>\n",
              "      <td>0</td>\n",
              "      <td>0</td>\n",
              "      <td>0</td>\n",
              "      <td>0</td>\n",
              "      <td>0</td>\n",
              "      <td>22</td>\n",
              "    </tr>\n",
              "    <tr>\n",
              "      <th>1998-12-31</th>\n",
              "      <td>1</td>\n",
              "      <td>507</td>\n",
              "      <td>0.001972</td>\n",
              "      <td>0</td>\n",
              "      <td>0</td>\n",
              "      <td>1</td>\n",
              "      <td>1</td>\n",
              "      <td>1</td>\n",
              "      <td>1</td>\n",
              "      <td>0</td>\n",
              "      <td>...</td>\n",
              "      <td>0</td>\n",
              "      <td>0</td>\n",
              "      <td>0</td>\n",
              "      <td>0</td>\n",
              "      <td>0</td>\n",
              "      <td>0</td>\n",
              "      <td>0</td>\n",
              "      <td>0</td>\n",
              "      <td>0</td>\n",
              "      <td>1</td>\n",
              "    </tr>\n",
              "    <tr>\n",
              "      <th>1999-12-31</th>\n",
              "      <td>1</td>\n",
              "      <td>2439</td>\n",
              "      <td>0.003690</td>\n",
              "      <td>0</td>\n",
              "      <td>0</td>\n",
              "      <td>1</td>\n",
              "      <td>1</td>\n",
              "      <td>1</td>\n",
              "      <td>1</td>\n",
              "      <td>0</td>\n",
              "      <td>...</td>\n",
              "      <td>0</td>\n",
              "      <td>0</td>\n",
              "      <td>0</td>\n",
              "      <td>0</td>\n",
              "      <td>0</td>\n",
              "      <td>0</td>\n",
              "      <td>0</td>\n",
              "      <td>0</td>\n",
              "      <td>0</td>\n",
              "      <td>9</td>\n",
              "    </tr>\n",
              "    <tr>\n",
              "      <th>2000-12-31</th>\n",
              "      <td>1</td>\n",
              "      <td>10061</td>\n",
              "      <td>0.001789</td>\n",
              "      <td>0</td>\n",
              "      <td>0</td>\n",
              "      <td>1</td>\n",
              "      <td>1</td>\n",
              "      <td>1</td>\n",
              "      <td>1</td>\n",
              "      <td>0</td>\n",
              "      <td>...</td>\n",
              "      <td>0</td>\n",
              "      <td>0</td>\n",
              "      <td>0</td>\n",
              "      <td>0</td>\n",
              "      <td>0</td>\n",
              "      <td>0</td>\n",
              "      <td>0</td>\n",
              "      <td>0</td>\n",
              "      <td>0</td>\n",
              "      <td>18</td>\n",
              "    </tr>\n",
              "  </tbody>\n",
              "</table>\n",
              "<p>5 rows × 24 columns</p>\n",
              "</div>"
            ],
            "text/plain": [
              "            movieId  totalReq   reqProb  0  1  2  3  4  5  6 ...   11  12  13  \\\n",
              "timestamp                                                    ...                \n",
              "1996-12-31        1      6040  0.005464  0  0  1  1  1  1  0 ...    0   0   0   \n",
              "1997-12-31        1      1916  0.011482  0  0  1  1  1  1  0 ...    0   0   0   \n",
              "1998-12-31        1       507  0.001972  0  0  1  1  1  1  0 ...    0   0   0   \n",
              "1999-12-31        1      2439  0.003690  0  0  1  1  1  1  0 ...    0   0   0   \n",
              "2000-12-31        1     10061  0.001789  0  0  1  1  1  1  0 ...    0   0   0   \n",
              "\n",
              "            14  15  16  17  18  19  req  \n",
              "timestamp                                \n",
              "1996-12-31   0   0   0   0   0   0   33  \n",
              "1997-12-31   0   0   0   0   0   0   22  \n",
              "1998-12-31   0   0   0   0   0   0    1  \n",
              "1999-12-31   0   0   0   0   0   0    9  \n",
              "2000-12-31   0   0   0   0   0   0   18  \n",
              "\n",
              "[5 rows x 24 columns]"
            ]
          },
          "metadata": {
            "tags": []
          },
          "execution_count": 116
        }
      ]
    },
    {
      "metadata": {
        "colab_type": "code",
        "id": "2AcmEeT9qXxw",
        "outputId": "306a41d4-54ef-4f82-c28f-e19f991aa8a9",
        "colab": {
          "base_uri": "https://localhost:8080/",
          "height": 262
        }
      },
      "cell_type": "code",
      "source": [
        "# We are selecting a single movie here, selecting \n",
        "# multiple movies will yield bad results because \n",
        "# of difference in data points.\n",
        "movie_history = with_genre.copy()\n",
        "movie_history = movie_history.reset_index().sort_values(['movieId','timestamp'])\n",
        "movie_history['Y'] = np.roll(movie_history['req'], -1)\n",
        "movie_history.set_index('timestamp', inplace=True)\n",
        "# movie_history.pivot(columns='movieId', values='req').plot(kind='bar', title=\"Request Counts/day\")\n",
        "del movie_history['totalReq']\n",
        "del movie_history['movieId']\n",
        "movie_history.head()"
      ],
      "execution_count": 119,
      "outputs": [
        {
          "output_type": "execute_result",
          "data": {
            "text/html": [
              "<div>\n",
              "<style scoped>\n",
              "    .dataframe tbody tr th:only-of-type {\n",
              "        vertical-align: middle;\n",
              "    }\n",
              "\n",
              "    .dataframe tbody tr th {\n",
              "        vertical-align: top;\n",
              "    }\n",
              "\n",
              "    .dataframe thead th {\n",
              "        text-align: right;\n",
              "    }\n",
              "</style>\n",
              "<table border=\"1\" class=\"dataframe\">\n",
              "  <thead>\n",
              "    <tr style=\"text-align: right;\">\n",
              "      <th></th>\n",
              "      <th>reqProb</th>\n",
              "      <th>0</th>\n",
              "      <th>1</th>\n",
              "      <th>2</th>\n",
              "      <th>3</th>\n",
              "      <th>4</th>\n",
              "      <th>5</th>\n",
              "      <th>6</th>\n",
              "      <th>7</th>\n",
              "      <th>8</th>\n",
              "      <th>...</th>\n",
              "      <th>12</th>\n",
              "      <th>13</th>\n",
              "      <th>14</th>\n",
              "      <th>15</th>\n",
              "      <th>16</th>\n",
              "      <th>17</th>\n",
              "      <th>18</th>\n",
              "      <th>19</th>\n",
              "      <th>req</th>\n",
              "      <th>Y</th>\n",
              "    </tr>\n",
              "    <tr>\n",
              "      <th>timestamp</th>\n",
              "      <th></th>\n",
              "      <th></th>\n",
              "      <th></th>\n",
              "      <th></th>\n",
              "      <th></th>\n",
              "      <th></th>\n",
              "      <th></th>\n",
              "      <th></th>\n",
              "      <th></th>\n",
              "      <th></th>\n",
              "      <th></th>\n",
              "      <th></th>\n",
              "      <th></th>\n",
              "      <th></th>\n",
              "      <th></th>\n",
              "      <th></th>\n",
              "      <th></th>\n",
              "      <th></th>\n",
              "      <th></th>\n",
              "      <th></th>\n",
              "      <th></th>\n",
              "    </tr>\n",
              "  </thead>\n",
              "  <tbody>\n",
              "    <tr>\n",
              "      <th>1996-12-31</th>\n",
              "      <td>0.005464</td>\n",
              "      <td>0</td>\n",
              "      <td>0</td>\n",
              "      <td>1</td>\n",
              "      <td>1</td>\n",
              "      <td>1</td>\n",
              "      <td>1</td>\n",
              "      <td>0</td>\n",
              "      <td>0</td>\n",
              "      <td>0</td>\n",
              "      <td>...</td>\n",
              "      <td>0</td>\n",
              "      <td>0</td>\n",
              "      <td>0</td>\n",
              "      <td>0</td>\n",
              "      <td>0</td>\n",
              "      <td>0</td>\n",
              "      <td>0</td>\n",
              "      <td>0</td>\n",
              "      <td>33</td>\n",
              "      <td>22</td>\n",
              "    </tr>\n",
              "    <tr>\n",
              "      <th>1997-12-31</th>\n",
              "      <td>0.011482</td>\n",
              "      <td>0</td>\n",
              "      <td>0</td>\n",
              "      <td>1</td>\n",
              "      <td>1</td>\n",
              "      <td>1</td>\n",
              "      <td>1</td>\n",
              "      <td>0</td>\n",
              "      <td>0</td>\n",
              "      <td>0</td>\n",
              "      <td>...</td>\n",
              "      <td>0</td>\n",
              "      <td>0</td>\n",
              "      <td>0</td>\n",
              "      <td>0</td>\n",
              "      <td>0</td>\n",
              "      <td>0</td>\n",
              "      <td>0</td>\n",
              "      <td>0</td>\n",
              "      <td>22</td>\n",
              "      <td>1</td>\n",
              "    </tr>\n",
              "    <tr>\n",
              "      <th>1998-12-31</th>\n",
              "      <td>0.001972</td>\n",
              "      <td>0</td>\n",
              "      <td>0</td>\n",
              "      <td>1</td>\n",
              "      <td>1</td>\n",
              "      <td>1</td>\n",
              "      <td>1</td>\n",
              "      <td>0</td>\n",
              "      <td>0</td>\n",
              "      <td>0</td>\n",
              "      <td>...</td>\n",
              "      <td>0</td>\n",
              "      <td>0</td>\n",
              "      <td>0</td>\n",
              "      <td>0</td>\n",
              "      <td>0</td>\n",
              "      <td>0</td>\n",
              "      <td>0</td>\n",
              "      <td>0</td>\n",
              "      <td>1</td>\n",
              "      <td>9</td>\n",
              "    </tr>\n",
              "    <tr>\n",
              "      <th>1999-12-31</th>\n",
              "      <td>0.003690</td>\n",
              "      <td>0</td>\n",
              "      <td>0</td>\n",
              "      <td>1</td>\n",
              "      <td>1</td>\n",
              "      <td>1</td>\n",
              "      <td>1</td>\n",
              "      <td>0</td>\n",
              "      <td>0</td>\n",
              "      <td>0</td>\n",
              "      <td>...</td>\n",
              "      <td>0</td>\n",
              "      <td>0</td>\n",
              "      <td>0</td>\n",
              "      <td>0</td>\n",
              "      <td>0</td>\n",
              "      <td>0</td>\n",
              "      <td>0</td>\n",
              "      <td>0</td>\n",
              "      <td>9</td>\n",
              "      <td>18</td>\n",
              "    </tr>\n",
              "    <tr>\n",
              "      <th>2000-12-31</th>\n",
              "      <td>0.001789</td>\n",
              "      <td>0</td>\n",
              "      <td>0</td>\n",
              "      <td>1</td>\n",
              "      <td>1</td>\n",
              "      <td>1</td>\n",
              "      <td>1</td>\n",
              "      <td>0</td>\n",
              "      <td>0</td>\n",
              "      <td>0</td>\n",
              "      <td>...</td>\n",
              "      <td>0</td>\n",
              "      <td>0</td>\n",
              "      <td>0</td>\n",
              "      <td>0</td>\n",
              "      <td>0</td>\n",
              "      <td>0</td>\n",
              "      <td>0</td>\n",
              "      <td>0</td>\n",
              "      <td>18</td>\n",
              "      <td>8</td>\n",
              "    </tr>\n",
              "  </tbody>\n",
              "</table>\n",
              "<p>5 rows × 23 columns</p>\n",
              "</div>"
            ],
            "text/plain": [
              "             reqProb  0  1  2  3  4  5  6  7  8 ...  12  13  14  15  16  17  \\\n",
              "timestamp                                       ...                           \n",
              "1996-12-31  0.005464  0  0  1  1  1  1  0  0  0 ...   0   0   0   0   0   0   \n",
              "1997-12-31  0.011482  0  0  1  1  1  1  0  0  0 ...   0   0   0   0   0   0   \n",
              "1998-12-31  0.001972  0  0  1  1  1  1  0  0  0 ...   0   0   0   0   0   0   \n",
              "1999-12-31  0.003690  0  0  1  1  1  1  0  0  0 ...   0   0   0   0   0   0   \n",
              "2000-12-31  0.001789  0  0  1  1  1  1  0  0  0 ...   0   0   0   0   0   0   \n",
              "\n",
              "            18  19  req   Y  \n",
              "timestamp                    \n",
              "1996-12-31   0   0   33  22  \n",
              "1997-12-31   0   0   22   1  \n",
              "1998-12-31   0   0    1   9  \n",
              "1999-12-31   0   0    9  18  \n",
              "2000-12-31   0   0   18   8  \n",
              "\n",
              "[5 rows x 23 columns]"
            ]
          },
          "metadata": {
            "tags": []
          },
          "execution_count": 119
        }
      ]
    },
    {
      "metadata": {
        "id": "M9Mhiw2rCqeB",
        "colab_type": "code",
        "colab": {
          "base_uri": "https://localhost:8080/",
          "height": 85
        },
        "outputId": "6ab43ba9-2862-4bba-9439-c8c6444e9d03"
      },
      "cell_type": "code",
      "source": [
        "mlb.classes_"
      ],
      "execution_count": 156,
      "outputs": [
        {
          "output_type": "execute_result",
          "data": {
            "text/plain": [
              "array(['(no genres listed)', 'Action', 'Adventure', 'Animation',\n",
              "       'Children', 'Comedy', 'Crime', 'Documentary', 'Drama', 'Fantasy',\n",
              "       'Film-Noir', 'Horror', 'IMAX', 'Musical', 'Mystery', 'Romance',\n",
              "       'Sci-Fi', 'Thriller', 'War', 'Western'], dtype=object)"
            ]
          },
          "metadata": {
            "tags": []
          },
          "execution_count": 156
        }
      ]
    },
    {
      "metadata": {
        "colab_type": "text",
        "id": "yvQlXTHUxIYG"
      },
      "cell_type": "markdown",
      "source": [
        "# Crunching numbers!"
      ]
    },
    {
      "metadata": {
        "colab_type": "code",
        "id": "JF4jlzy7vt03",
        "outputId": "a207c948-609e-4ec0-d166-1d4af284109c",
        "colab": {
          "base_uri": "https://localhost:8080/",
          "height": 34
        }
      },
      "cell_type": "code",
      "source": [
        "from sklearn.preprocessing import MinMaxScaler\n",
        "from sklearn.compose import ColumnTransformer, make_column_transformer\n",
        "\n",
        "values = movie_history.values\n",
        "# #print(values)\n",
        "# one_hot_encoded = np.concatenate((list(map(lambda x:np.eye(4)[x-1], values[:,23].astype('int')) ),\n",
        "#                list(map(lambda x:np.eye(4)[x-1], values[:,24].astype('int')))), axis=1)\n",
        "# values = np.concatenate((movie_history.values[:,:23], one_hot_encoded), axis=1)\n",
        "\n",
        "# Scale \n",
        "scaler = MinMaxScaler()\n",
        "scaled_values = scaler.fit_transform(values)\n",
        "scaled_values.shape\n"
      ],
      "execution_count": 120,
      "outputs": [
        {
          "output_type": "execute_result",
          "data": {
            "text/plain": [
              "(41295, 23)"
            ]
          },
          "metadata": {
            "tags": []
          },
          "execution_count": 120
        }
      ]
    },
    {
      "metadata": {
        "colab_type": "text",
        "id": "HuxZJ9or6zfU"
      },
      "cell_type": "markdown",
      "source": [
        "## Make X and Y"
      ]
    },
    {
      "metadata": {
        "colab_type": "code",
        "id": "Na6Poqpc80oy",
        "outputId": "167ef040-3901-41fb-8e6a-0bd0387778c2",
        "colab": {
          "base_uri": "https://localhost:8080/",
          "height": 51
        }
      },
      "cell_type": "code",
      "source": [
        "n_input_cols = 22\n",
        "n_output_cols = 1\n",
        "X = scaled_values[:,:n_input_cols]\n",
        "y = scaled_values[:,n_input_cols:]\n",
        "# reshape\n",
        "# X = X.reshape(X.shape[0], 1, n_input_cols)\n",
        "# y = y.reshape(y.shape[0], 1, n_output_cols)\n",
        "print(X.shape)\n",
        "print(y.shape)"
      ],
      "execution_count": 122,
      "outputs": [
        {
          "output_type": "stream",
          "text": [
            "(41295, 22)\n",
            "(41295, 1)\n"
          ],
          "name": "stdout"
        }
      ]
    },
    {
      "metadata": {
        "colab_type": "text",
        "id": "Cn6Ty1x_8-RJ"
      },
      "cell_type": "markdown",
      "source": [
        "## train_test_split"
      ]
    },
    {
      "metadata": {
        "colab_type": "code",
        "id": "dex1WVxW9Nnb",
        "colab": {}
      },
      "cell_type": "code",
      "source": [
        "from sklearn.model_selection import train_test_split\n",
        "X_train, X_test, y_train, y_test = train_test_split(X, y, test_size=0.33, shuffle=False)"
      ],
      "execution_count": 0,
      "outputs": []
    },
    {
      "metadata": {
        "id": "8O0PQJVaBkPG",
        "colab_type": "text"
      },
      "cell_type": "markdown",
      "source": [
        "# Make Model"
      ]
    },
    {
      "metadata": {
        "id": "Do-1NeVP_NAP",
        "colab_type": "code",
        "colab": {
          "base_uri": "https://localhost:8080/",
          "height": 118
        },
        "outputId": "124edc6c-773b-44a7-e51b-a165425fe645"
      },
      "cell_type": "code",
      "source": [
        "from xgboost import XGBRegressor\n",
        "\n",
        "model = XGBRegressor()\n",
        "model.fit(X, y)"
      ],
      "execution_count": 145,
      "outputs": [
        {
          "output_type": "execute_result",
          "data": {
            "text/plain": [
              "XGBRegressor(base_score=0.5, booster='gbtree', colsample_bylevel=1,\n",
              "       colsample_bytree=1, gamma=0, learning_rate=0.1, max_delta_step=0,\n",
              "       max_depth=3, min_child_weight=1, missing=None, n_estimators=100,\n",
              "       n_jobs=1, nthread=None, objective='reg:linear', random_state=0,\n",
              "       reg_alpha=0, reg_lambda=1, scale_pos_weight=1, seed=None,\n",
              "       silent=True, subsample=1)"
            ]
          },
          "metadata": {
            "tags": []
          },
          "execution_count": 145
        }
      ]
    },
    {
      "metadata": {
        "id": "FOoi5qWlAXEO",
        "colab_type": "code",
        "colab": {
          "base_uri": "https://localhost:8080/",
          "height": 34
        },
        "outputId": "6cf637d5-6c54-4a55-ee55-148afa75f9f9"
      },
      "cell_type": "code",
      "source": [
        "prediction = model.predict(X_test)\n",
        "from sklearn.metrics import mean_squared_error\n",
        "mean_squared_error(prediction, y_test)"
      ],
      "execution_count": 179,
      "outputs": [
        {
          "output_type": "execute_result",
          "data": {
            "text/plain": [
              "0.0005245930375970183"
            ]
          },
          "metadata": {
            "tags": []
          },
          "execution_count": 179
        }
      ]
    },
    {
      "metadata": {
        "id": "oUk-55l1_vTU",
        "colab_type": "code",
        "colab": {
          "base_uri": "https://localhost:8080/",
          "height": 34
        },
        "outputId": "b6750e35-6e34-4e93-8e92-440596f3234a"
      },
      "cell_type": "code",
      "source": [
        "def predict(input_array):\n",
        "    dat = np.concatenate((input_array, [[0]*n_output_cols]*input_array.shape[0]), axis=1)\n",
        "    dat = scaler.transform(dat)[:,:n_input_cols]\n",
        "    predicted = model.predict(dat)\n",
        "\n",
        "    predicted = predicted.reshape(1,n_output_cols)\n",
        "    x = np.concatenate(([[0]*n_input_cols]*input_array.shape[0], predicted), axis=1)\n",
        "    return scaler.inverse_transform(x)[:,n_input_cols:]\n",
        "\n",
        "predict(np.array([\n",
        "    [0.156] + list(mlb.transform([['Comedy', 'Sci-Fi']])[0]) + [5]\n",
        "]))"
      ],
      "execution_count": 180,
      "outputs": [
        {
          "output_type": "execute_result",
          "data": {
            "text/plain": [
              "array([[4.13237482]])"
            ]
          },
          "metadata": {
            "tags": []
          },
          "execution_count": 180
        }
      ]
    },
    {
      "metadata": {
        "id": "G0Bkb8Z2BtXT",
        "colab_type": "code",
        "colab": {}
      },
      "cell_type": "code",
      "source": [
        ""
      ],
      "execution_count": 0,
      "outputs": []
    }
  ]
}